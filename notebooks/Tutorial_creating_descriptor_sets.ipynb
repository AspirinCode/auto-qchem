{
 "cells": [
  {
   "cell_type": "markdown",
   "metadata": {},
   "source": [
    "### Startup imports"
   ]
  },
  {
   "cell_type": "code",
   "execution_count": 1,
   "metadata": {},
   "outputs": [],
   "source": [
    "import pandas as pd\n",
    "\n",
    "from autoqchem.molecule import molecule\n",
    "from autoqchem.slurm_manager import slurm_manager\n",
    "\n",
    "import logging\n",
    "logging.basicConfig(level=logging.INFO)"
   ]
  },
  {
   "cell_type": "markdown",
   "metadata": {},
   "source": [
    "### Initialize the slurm manager\n",
    "\n",
    "Slurm manager is going to manage what jobs you have currently running, or created. It caches your information, so you can kill the notebook, turn-off your computer, go on vacation, and pick it up later. It will remember which jobs you haven't retrieved from the cluster, etc.\n",
    "\n",
    "Note: it won't ask you for login unless you execute a method that requires remote access"
   ]
  },
  {
   "cell_type": "code",
   "execution_count": 3,
   "metadata": {},
   "outputs": [],
   "source": [
    "sm=slurm_manager(user='zuranski', host='adroit.princeton.edu')"
   ]
  },
  {
   "cell_type": "markdown",
   "metadata": {},
   "source": [
    "### Provide some smiles string(s)\n",
    "\n",
    "and copy into them into ```my_smiles``` variable. It's a list of strings (a Python list can be of any size)"
   ]
  },
  {
   "cell_type": "code",
   "execution_count": 19,
   "metadata": {},
   "outputs": [],
   "source": [
    "my_smiles=[\n",
    "    \"C(C1C(C(C(C(O1)O)O)O)O)O\",\n",
    "    \"c1ccc(F)cc1\",\n",
    "]"
   ]
  },
  {
   "cell_type": "markdown",
   "metadata": {},
   "source": [
    "For a list of smiles, you can also read them out from a csv file in this way, assumed file name ```smiles_strings.csv```, also assuming the strings are in the first column, and there are no headers"
   ]
  },
  {
   "cell_type": "code",
   "execution_count": 20,
   "metadata": {},
   "outputs": [],
   "source": [
    "# my_smiles = pd.read_csv(\"smiles_strings.csv\", header=None, usecols=[0])[0].tolist()\n",
    "# my_smiles"
   ]
  },
  {
   "cell_type": "markdown",
   "metadata": {},
   "source": [
    "### Initialize the molecules and generate conformations\n",
    "\n",
    "We will use some ```for``` loops to loop over the smiles"
   ]
  },
  {
   "cell_type": "code",
   "execution_count": 21,
   "metadata": {},
   "outputs": [
    {
     "name": "stderr",
     "output_type": "stream",
     "text": [
      "INFO:autoqchem.molecule:Initializing molecule with canonical smiles: OCC1OC(O)C(C(C1O)O)O\n",
      "INFO:autoqchem.molecule:Creating initial geometry with option 'best'.\n",
      "INFO:autoqchem.molecule:Initial geometry created successfully.\n",
      "INFO:autoqchem.molecule:Conformer Search generated 3 conformations of OCC1OC(O)C(C(C1O)O)O molecule\n",
      "INFO:autoqchem.molecule:Initializing molecule with canonical smiles: Fc1ccccc1\n",
      "INFO:autoqchem.molecule:Creating initial geometry with option 'best'.\n",
      "INFO:autoqchem.molecule:Initial geometry created successfully.\n",
      "INFO:autoqchem.molecule:Conformer Search generated 1 conformations of Fc1ccccc1 molecule\n"
     ]
    }
   ],
   "source": [
    "mols = []\n",
    "for smile in my_smiles:\n",
    "    mols.append(molecule(smile, max_num_conformers=3))"
   ]
  },
  {
   "cell_type": "markdown",
   "metadata": {},
   "source": [
    "Draw some molecules"
   ]
  },
  {
   "cell_type": "code",
   "execution_count": 22,
   "metadata": {},
   "outputs": [
    {
     "data": {
      "text/html": [
       "<div id=\"molecule_ed514562-c002-41c8-baa6-78d1633d9cfc\"></div>\n",
       "           <script type=\"text/javascript\">\n",
       "           require.config({baseUrl: '/',\n",
       "                           paths: {imolecule: ['nbextensions/imolecule.min', 'https://rawgit.com/patrickfuller/imolecule/master/imolecule/js/build/imolecule.min']}});\n",
       "           require(['imolecule'], function () {\n",
       "               var $d = $('#molecule_ed514562-c002-41c8-baa6-78d1633d9cfc');\n",
       "               $d.width(400); $d.height(300);\n",
       "               $d.imolecule = jQuery.extend({}, imolecule);\n",
       "               $d.imolecule.create($d, {drawingType: 'ball and stick',\n",
       "                                        cameraType: 'perspective',\n",
       "                                        shader: 'lambert',\n",
       "                                        showSave: false});\n",
       "               $d.imolecule.addElements({});\n",
       "               $d.imolecule.draw({\"atoms\":[{\"charge\":-0.39236618231463727,\"element\":\"O\",\"location\":[0.35540516362045294,2.403243155321249,1.9668553847540857]},{\"charge\":0.07301507231695721,\"element\":\"C\",\"location\":[0.6251756724344308,1.0097732841095188,1.913203850847637]},{\"charge\":0.1129991774129337,\"element\":\"C\",\"location\":[1.0273945984113784,0.598180784611661,0.489628751459771]},{\"charge\":-0.34070244398498123,\"element\":\"O\",\"location\":[1.2912634364466484,-0.8114501866379585,0.39991054227100786]},{\"charge\":0.18539471169154617,\"element\":\"C\",\"location\":[0.1377822536727149,-1.6473975828813847,0.4636138378138277]},{\"charge\":-0.3648790761266534,\"element\":\"O\",\"location\":[0.5657146601869916,-2.991870014154874,0.2990564117315375]},{\"charge\":0.1339267452890926,\"element\":\"C\",\"location\":[-0.8944170122974414,-1.3012093195108294,-0.6246022567532934]},{\"charge\":0.11405534637530039,\"element\":\"C\",\"location\":[-1.2451917550737246,0.18920555292927665,-0.5406041200369078]},{\"charge\":0.11189560773736981,\"element\":\"C\",\"location\":[0.027638658572056718,1.0465922228990532,-0.5946104992477934]},{\"charge\":-0.3864882696301201,\"element\":\"O\",\"location\":[0.6311028780587709,0.8531174583772911,-1.896968411575244]},{\"charge\":-0.38640096354845593,\"element\":\"O\",\"location\":[-2.1172611368756886,0.5460507164609103,-1.618087072337284]},{\"charge\":-0.38411018242672346,\"element\":\"O\",\"location\":[-0.3427132503095842,-1.6286276398617132,-1.9211377223975201]},{\"charge\":0.20950803056063969,\"element\":\"H\",\"location\":[0.219021273756558,2.635648309866157,2.9033777321886434]},{\"charge\":0.05837016061608925,\"element\":\"H\",\"location\":[-0.2623033802041763,0.4746399604391735,2.2621660623414694]},{\"charge\":0.05837016061608925,\"element\":\"H\",\"location\":[1.4385822353522921,0.7768136136201248,2.6092730451381954]},{\"charge\":0.06466758763248871,\"element\":\"H\",\"location\":[1.9844725538688257,1.08697617169862,0.2672012296728701]},{\"charge\":0.0935445039053912,\"element\":\"H\",\"location\":[-0.3091632692118036,-1.571440855908686,1.4595923127040002]},{\"charge\":0.2125609720602366,\"element\":\"H\",\"location\":[0.6145422691189197,-3.1156904263135634,-0.6688697086582727]},{\"charge\":0.06708920834170269,\"element\":\"H\",\"location\":[-1.7899822446456894,-1.9228893561949554,-0.5228491929890009]},{\"charge\":0.06475803341839921,\"element\":\"H\",\"location\":[-1.7878527008581357,0.38752486452441137,0.3899047655689518]},{\"charge\":0.0646728414878028,\"element\":\"H\",\"location\":[-0.22298115626649273,2.110075197185997,-0.521877789043913]},{\"charge\":0.21000354802667717,\"element\":\"H\",\"location\":[1.3553548659118047,1.5039401667641819,-1.966498103787002]},{\"charge\":0.21000503395202802,\"element\":\"H\",\"location\":[-1.6328136617386544,0.30699955494242914,-2.4340867964225215]},{\"charge\":0.21011037659082735,\"element\":\"H\",\"location\":[0.33122904806955145,-0.9382056322860858,-2.113592253243251]}],\"bonds\":[{\"atoms\":[0,1],\"order\":1},{\"atoms\":[1,2],\"order\":1},{\"atoms\":[2,3],\"order\":1},{\"atoms\":[3,4],\"order\":1},{\"atoms\":[4,5],\"order\":1},{\"atoms\":[4,6],\"order\":1},{\"atoms\":[6,7],\"order\":1},{\"atoms\":[7,8],\"order\":1},{\"atoms\":[2,8],\"order\":1},{\"atoms\":[8,9],\"order\":1},{\"atoms\":[7,10],\"order\":1},{\"atoms\":[6,11],\"order\":1},{\"atoms\":[0,12],\"order\":1},{\"atoms\":[1,13],\"order\":1},{\"atoms\":[1,14],\"order\":1},{\"atoms\":[2,15],\"order\":1},{\"atoms\":[4,16],\"order\":1},{\"atoms\":[5,17],\"order\":1},{\"atoms\":[6,18],\"order\":1},{\"atoms\":[7,19],\"order\":1},{\"atoms\":[8,20],\"order\":1},{\"atoms\":[9,21],\"order\":1},{\"atoms\":[10,22],\"order\":1},{\"atoms\":[11,23],\"order\":1}],\"formula\":\"C6H12O6\",\"molecular_weight\":180.1558799999999,\"units\":{\"molecular_weight\":\"g / mol\"}});\n",
       "\n",
       "               $d.resizable({\n",
       "                   aspectRatio: 400 / 300,\n",
       "                   resize: function (evt, ui) {\n",
       "                       $d.imolecule.renderer.setSize(ui.size.width,\n",
       "                                                     ui.size.height);\n",
       "                   }\n",
       "               });\n",
       "           });\n",
       "           </script>"
      ],
      "text/plain": [
       "<pybel.Molecule at 0x2c900073288>"
      ]
     },
     "metadata": {},
     "output_type": "display_data"
    }
   ],
   "source": [
    "mols[0].draw(2)"
   ]
  },
  {
   "cell_type": "markdown",
   "metadata": {},
   "source": [
    "### Create gaussian jobs for each conformation"
   ]
  },
  {
   "cell_type": "code",
   "execution_count": 23,
   "metadata": {},
   "outputs": [
    {
     "name": "stderr",
     "output_type": "stream",
     "text": [
      "INFO:autoqchem.gaussian_input_generator:Generating Gaussian input files for 3 conformations.\n",
      "INFO:autoqchem.gaussian_input_generator:Generating Gaussian input files for 1 conformations.\n"
     ]
    }
   ],
   "source": [
    "for mol in mols:\n",
    "    sm.create_jobs_for_molecule(mol, workflow_type=\"equilibrium\")"
   ]
  },
  {
   "cell_type": "markdown",
   "metadata": {},
   "source": [
    "Where is this all happening?? where are the input files?? \n",
    "\n",
    "Just like most of your applications it uses the 'AppData' directories, they will differ depending on the OS"
   ]
  },
  {
   "cell_type": "code",
   "execution_count": 24,
   "metadata": {},
   "outputs": [
    {
     "data": {
      "text/plain": [
       "'C:\\\\Users\\\\AndrzejZuranski\\\\AppData\\\\Local\\\\autoqchem\\\\adroit'"
      ]
     },
     "execution_count": 24,
     "metadata": {},
     "output_type": "execute_result"
    }
   ],
   "source": [
    "sm.workdir"
   ]
  },
  {
   "cell_type": "code",
   "execution_count": 25,
   "metadata": {},
   "outputs": [
    {
     "data": {
      "text/plain": [
       "'/home/zuranski/gaussian'"
      ]
     },
     "execution_count": 25,
     "metadata": {},
     "output_type": "execute_result"
    }
   ],
   "source": [
    "sm.remote_dir"
   ]
  },
  {
   "cell_type": "code",
   "execution_count": 26,
   "metadata": {},
   "outputs": [
    {
     "data": {
      "text/html": [
       "<div>\n",
       "<style scoped>\n",
       "    .dataframe tbody tr th:only-of-type {\n",
       "        vertical-align: middle;\n",
       "    }\n",
       "\n",
       "    .dataframe tbody tr th {\n",
       "        vertical-align: top;\n",
       "    }\n",
       "\n",
       "    .dataframe thead th {\n",
       "        text-align: right;\n",
       "    }\n",
       "</style>\n",
       "<table border=\"1\" class=\"dataframe\">\n",
       "  <thead>\n",
       "    <tr style=\"text-align: right;\">\n",
       "      <th>status</th>\n",
       "      <th>created</th>\n",
       "    </tr>\n",
       "    <tr>\n",
       "      <th>can</th>\n",
       "      <th></th>\n",
       "    </tr>\n",
       "  </thead>\n",
       "  <tbody>\n",
       "    <tr>\n",
       "      <th>Fc1ccccc1</th>\n",
       "      <td>1</td>\n",
       "    </tr>\n",
       "    <tr>\n",
       "      <th>OCC1OC(O)C(C(C1O)O)O</th>\n",
       "      <td>3</td>\n",
       "    </tr>\n",
       "  </tbody>\n",
       "</table>\n",
       "</div>"
      ],
      "text/plain": [
       "status                created\n",
       "can                          \n",
       "Fc1ccccc1                   1\n",
       "OCC1OC(O)C(C(C1O)O)O        3"
      ]
     },
     "execution_count": 26,
     "metadata": {},
     "output_type": "execute_result"
    }
   ],
   "source": [
    "sm.get_job_stats(split_by_can=True)"
   ]
  },
  {
   "cell_type": "markdown",
   "metadata": {},
   "source": [
    "### Submit the jobs to the server \n",
    "\n",
    "if you are not connected, it will ask for password + Duo"
   ]
  },
  {
   "cell_type": "code",
   "execution_count": 27,
   "metadata": {
    "scrolled": true
   },
   "outputs": [
    {
     "name": "stderr",
     "output_type": "stream",
     "text": [
      "INFO:autoqchem.slurm_manager:Submitting 4 jobs.\n",
      "INFO:autoqchem.slurm_manager:Creating connection to adroit.princeton.edu as zuranski\n",
      "INFO:paramiko.transport:Connected (version 2.0, client OpenSSH_7.4)\n"
     ]
    },
    {
     "name": "stdout",
     "output_type": "stream",
     "text": [
      "\n",
      "\n",
      "Password: ········\n"
     ]
    },
    {
     "name": "stderr",
     "output_type": "stream",
     "text": [
      "INFO:paramiko.transport:Authentication (keyboard-interactive) successful!\n"
     ]
    },
    {
     "name": "stdout",
     "output_type": "stream",
     "text": [
      "\n",
      "\n"
     ]
    },
    {
     "name": "stderr",
     "output_type": "stream",
     "text": [
      "INFO:autoqchem.slurm_manager:Connected to adroit.princeton.edu as zuranski.\n",
      "INFO:paramiko.transport.sftp:[chan 1] Opened sftp connection (server version 3)\n",
      "INFO:autoqchem.slurm_manager:Submitted job e9162c5d891c1185cc2067d1ee73dccc, job_id: 696351.\n",
      "INFO:autoqchem.slurm_manager:Submitted job 91ad2194b2b0eec764c9338dda81fdbd, job_id: 696352.\n",
      "INFO:autoqchem.slurm_manager:Submitted job d38f6c69440bf07069e680b0aa1b5cb5, job_id: 696353.\n",
      "INFO:autoqchem.slurm_manager:Submitted job 9c59cc44031ac7020ca56bace39f26ce, job_id: 696354.\n"
     ]
    }
   ],
   "source": [
    "sm.submit_jobs()"
   ]
  },
  {
   "cell_type": "markdown",
   "metadata": {},
   "source": [
    "Check the status of the jobs, locally and remotely"
   ]
  },
  {
   "cell_type": "code",
   "execution_count": 35,
   "metadata": {},
   "outputs": [
    {
     "data": {
      "text/html": [
       "<div>\n",
       "<style scoped>\n",
       "    .dataframe tbody tr th:only-of-type {\n",
       "        vertical-align: middle;\n",
       "    }\n",
       "\n",
       "    .dataframe tbody tr th {\n",
       "        vertical-align: top;\n",
       "    }\n",
       "\n",
       "    .dataframe thead th {\n",
       "        text-align: right;\n",
       "    }\n",
       "</style>\n",
       "<table border=\"1\" class=\"dataframe\">\n",
       "  <thead>\n",
       "    <tr style=\"text-align: right;\">\n",
       "      <th>status</th>\n",
       "      <th>submitted</th>\n",
       "    </tr>\n",
       "    <tr>\n",
       "      <th>can</th>\n",
       "      <th></th>\n",
       "    </tr>\n",
       "  </thead>\n",
       "  <tbody>\n",
       "    <tr>\n",
       "      <th>Fc1ccccc1</th>\n",
       "      <td>1</td>\n",
       "    </tr>\n",
       "    <tr>\n",
       "      <th>OCC1OC(O)C(C(C1O)O)O</th>\n",
       "      <td>3</td>\n",
       "    </tr>\n",
       "  </tbody>\n",
       "</table>\n",
       "</div>"
      ],
      "text/plain": [
       "status                submitted\n",
       "can                            \n",
       "Fc1ccccc1                     1\n",
       "OCC1OC(O)C(C(C1O)O)O          3"
      ]
     },
     "execution_count": 35,
     "metadata": {},
     "output_type": "execute_result"
    }
   ],
   "source": [
    "sm.get_job_stats(split_by_can=True)"
   ]
  },
  {
   "cell_type": "code",
   "execution_count": 36,
   "metadata": {},
   "outputs": [
    {
     "data": {
      "text/html": [
       "<div>\n",
       "<style scoped>\n",
       "    .dataframe tbody tr th:only-of-type {\n",
       "        vertical-align: middle;\n",
       "    }\n",
       "\n",
       "    .dataframe tbody tr th {\n",
       "        vertical-align: top;\n",
       "    }\n",
       "\n",
       "    .dataframe thead th {\n",
       "        text-align: right;\n",
       "    }\n",
       "</style>\n",
       "<table border=\"1\" class=\"dataframe\">\n",
       "  <thead>\n",
       "    <tr style=\"text-align: right;\">\n",
       "      <th></th>\n",
       "      <th>JOBID</th>\n",
       "      <th>PARTITION</th>\n",
       "      <th>NAME</th>\n",
       "      <th>USER</th>\n",
       "      <th>ST</th>\n",
       "      <th>TIME</th>\n",
       "      <th>NODES</th>\n",
       "      <th>NODELIST(REASON)</th>\n",
       "    </tr>\n",
       "  </thead>\n",
       "  <tbody>\n",
       "  </tbody>\n",
       "</table>\n",
       "</div>"
      ],
      "text/plain": [
       "Empty DataFrame\n",
       "Columns: [JOBID, PARTITION, NAME, USER, ST, TIME, NODES, NODELIST(REASON)]\n",
       "Index: []"
      ]
     },
     "execution_count": 36,
     "metadata": {},
     "output_type": "execute_result"
    }
   ],
   "source": [
    "sm.squeue(summary=False)"
   ]
  },
  {
   "cell_type": "markdown",
   "metadata": {},
   "source": [
    "### Retrieve jobs\n",
    "\n",
    "If there are some finished jobs the log files will be checked for completion and downloaded locally."
   ]
  },
  {
   "cell_type": "code",
   "execution_count": 37,
   "metadata": {},
   "outputs": [
    {
     "name": "stderr",
     "output_type": "stream",
     "text": [
      "INFO:autoqchem.slurm_manager:There are 0 running/pending jobs, 4 finished jobs.\n",
      "INFO:autoqchem.slurm_manager:Retrieving log files of finished jobs.\n",
      "INFO:autoqchem.slurm_manager:4 jobs finished successfully (all Gaussian steps finished normally). 0 jobs failed.\n"
     ]
    }
   ],
   "source": [
    "sm.retrieve_jobs()"
   ]
  },
  {
   "cell_type": "markdown",
   "metadata": {},
   "source": [
    "### Resubmit failed jobs"
   ]
  },
  {
   "cell_type": "code",
   "execution_count": 40,
   "metadata": {},
   "outputs": [
    {
     "name": "stderr",
     "output_type": "stream",
     "text": [
      "INFO:autoqchem.slurm_manager:There are no failed jobs to resubmit.\n"
     ]
    }
   ],
   "source": [
    "sm.resubmit_failed_jobs()"
   ]
  },
  {
   "cell_type": "markdown",
   "metadata": {},
   "source": [
    "### Upload molecules to the database"
   ]
  },
  {
   "cell_type": "code",
   "execution_count": 39,
   "metadata": {},
   "outputs": [
    {
     "name": "stderr",
     "output_type": "stream",
     "text": [
      "INFO:autoqchem.slurm_manager:There are 2 finished molecules ['Fc1ccccc1', 'OCC1OC(O)C(C(C1O)O)O'].\n",
      "INFO:autoqchem.slurm_manager:Uploaded descriptors to DB for smiles: Fc1ccccc1, number of conformers: 1.\n",
      "INFO:autoqchem.slurm_manager:Molecule OCC1OC(O)C(C(C1O)O)O has 0 / 3 duplicate conformers.\n",
      "INFO:autoqchem.slurm_manager:Uploaded descriptors to DB for smiles: OCC1OC(O)C(C(C1O)O)O, number of conformers: 3.\n"
     ]
    }
   ],
   "source": [
    "sm.upload_done_molecules_to_db(tag=\"tutorial_AMZ\")"
   ]
  },
  {
   "cell_type": "code",
   "execution_count": null,
   "metadata": {},
   "outputs": [],
   "source": []
  }
 ],
 "metadata": {
  "kernelspec": {
   "display_name": "Python 3",
   "language": "python",
   "name": "python3"
  },
  "language_info": {
   "codemirror_mode": {
    "name": "ipython",
    "version": 3
   },
   "file_extension": ".py",
   "mimetype": "text/x-python",
   "name": "python",
   "nbconvert_exporter": "python",
   "pygments_lexer": "ipython3",
   "version": "3.7.6"
  }
 },
 "nbformat": 4,
 "nbformat_minor": 2
}
