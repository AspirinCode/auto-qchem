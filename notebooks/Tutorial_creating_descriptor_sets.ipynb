{
 "cells": [
  {
   "cell_type": "markdown",
   "metadata": {},
   "source": [
    "### Startup imports"
   ]
  },
  {
   "cell_type": "code",
   "execution_count": 4,
   "metadata": {},
   "outputs": [],
   "source": [
    "import pandas as pd\n",
    "\n",
    "from autoqchem.molecule import molecule\n",
    "from autoqchem.slurm_manager import slurm_manager\n",
    "from autoqchem.helper_classes import slurm_status\n",
    "\n",
    "import logging\n",
    "logging.basicConfig(level=logging.INFO)"
   ]
  },
  {
   "cell_type": "markdown",
   "metadata": {},
   "source": [
    "### Initialize the slurm manager\n",
    "\n",
    "Slurm manager is going to manage what jobs you have currently running, or created. It caches your information, so you can kill the notebook, turn-off your computer, go on vacation, and pick it up later. It will remember which jobs you haven't retrieved from the cluster, etc.\n",
    "\n",
    "Note: it won't ask you for login unless you execute a method that requires remote access"
   ]
  },
  {
   "cell_type": "code",
   "execution_count": 5,
   "metadata": {},
   "outputs": [],
   "source": [
    "sm=slurm_manager(user='zuranski', host='adroit.princeton.edu')"
   ]
  },
  {
   "cell_type": "markdown",
   "metadata": {},
   "source": [
    "### Provide some smiles string(s)\n",
    "\n",
    "and copy into them into ```my_smiles``` variable. It's a list of strings (a Python list can be of any size)"
   ]
  },
  {
   "cell_type": "code",
   "execution_count": 6,
   "metadata": {},
   "outputs": [],
   "source": [
    "my_smiles=[\n",
    "    \"C(C1C(C(C(C(O1)O)O)O)O)O\",\n",
    "    \"c1ccc(F)cc1\",\n",
    "]"
   ]
  },
  {
   "cell_type": "markdown",
   "metadata": {},
   "source": [
    "For a list of smiles, you can also read them out from a csv file in this way, assumed file name ```smiles_strings.csv```, also assuming the strings are in the first column, and there are no headers"
   ]
  },
  {
   "cell_type": "code",
   "execution_count": 7,
   "metadata": {},
   "outputs": [],
   "source": [
    "# my_smiles = pd.read_csv(\"smiles_strings.csv\", header=None, usecols=[0])[0].tolist()\n",
    "# my_smiles"
   ]
  },
  {
   "cell_type": "markdown",
   "metadata": {},
   "source": [
    "### Initialize the molecules and generate conformations\n",
    "\n",
    "We will use some ```for``` loops to loop over the smiles"
   ]
  },
  {
   "cell_type": "code",
   "execution_count": 8,
   "metadata": {},
   "outputs": [
    {
     "name": "stderr",
     "output_type": "stream",
     "text": [
      "INFO:autoqchem.molecule:Initializing molecule with canonical smiles: OCC1OC(O)C(C(C1O)O)O\n",
      "INFO:autoqchem.molecule:Creating initial geometry with option 'best'.\n",
      "INFO:autoqchem.molecule:Initial geometry created successfully.\n",
      "INFO:autoqchem.molecule:Conformer Search generated 3 conformations of OCC1OC(O)C(C(C1O)O)O molecule\n",
      "INFO:autoqchem.molecule:Initializing molecule with canonical smiles: Fc1ccccc1\n",
      "INFO:autoqchem.molecule:Creating initial geometry with option 'best'.\n",
      "INFO:autoqchem.molecule:Initial geometry created successfully.\n",
      "INFO:autoqchem.molecule:Conformer Search generated 1 conformations of Fc1ccccc1 molecule\n"
     ]
    }
   ],
   "source": [
    "mols = []\n",
    "for smile in my_smiles:\n",
    "    mols.append(molecule(smile, max_num_conformers=3))"
   ]
  },
  {
   "cell_type": "markdown",
   "metadata": {},
   "source": [
    "Draw some molecules"
   ]
  },
  {
   "cell_type": "code",
   "execution_count": 9,
   "metadata": {},
   "outputs": [
    {
     "data": {
      "text/html": [
       "<div id=\"molecule_c4e2008a-adb8-49e9-bb56-97fc01921c40\"></div>\n",
       "           <script type=\"text/javascript\">\n",
       "           require.config({baseUrl: '/',\n",
       "                           paths: {imolecule: ['nbextensions/imolecule.min', 'https://rawgit.com/patrickfuller/imolecule/master/imolecule/js/build/imolecule.min']}});\n",
       "           require(['imolecule'], function () {\n",
       "               var $d = $('#molecule_c4e2008a-adb8-49e9-bb56-97fc01921c40');\n",
       "               $d.width(400); $d.height(300);\n",
       "               $d.imolecule = jQuery.extend({}, imolecule);\n",
       "               $d.imolecule.create($d, {drawingType: 'ball and stick',\n",
       "                                        cameraType: 'perspective',\n",
       "                                        shader: 'lambert',\n",
       "                                        showSave: false});\n",
       "               $d.imolecule.addElements({});\n",
       "               $d.imolecule.draw({\"atoms\":[{\"charge\":-0.39236618231463727,\"element\":\"O\",\"location\":[-2.7774841065921643,-1.4251039100702214,0.15835278792747648]},{\"charge\":0.07301507231695721,\"element\":\"C\",\"location\":[-1.39701391287685,-1.7593236575801146,0.15481109873486687]},{\"charge\":0.1129991774129337,\"element\":\"C\",\"location\":[-0.5877992856090373,-0.6941580896527779,0.9087002118176991]},{\"charge\":-0.34070244398498123,\"element\":\"O\",\"location\":[0.8168977804353648,-0.9967507677422892,0.9082454319761675]},{\"charge\":0.18539471169154617,\"element\":\"C\",\"location\":[1.475063319375526,-0.80904532086615,-0.3427421921447004]},{\"charge\":-0.3648790761266534,\"element\":\"O\",\"location\":[2.854798893206372,-1.089512874214377,-0.1543820171457136]},{\"charge\":0.1339267452890926,\"element\":\"C\",\"location\":[1.3119681913985395,0.6248176861436427,-0.8784034408417563]},{\"charge\":0.11405534637530039,\"element\":\"C\",\"location\":[-0.17832357219066353,0.9805777778720632,-0.9408603126044042]},{\"charge\":0.11189560773736981,\"element\":\"C\",\"location\":[-0.8464113612487436,0.7453068604532722,0.42164908247627225]},{\"charge\":-0.3864882696301201,\"element\":\"O\",\"location\":[-0.25574748656532087,1.67216328356786,1.3649366412527697]},{\"charge\":-0.38640096354845593,\"element\":\"O\",\"location\":[-0.33677182497709834,2.348981799009535,-1.3296750461013245]},{\"charge\":-0.38411018242672346,\"element\":\"O\",\"location\":[2.023901535096639,1.5376454633019454,-0.010947419137078876]},{\"charge\":0.20950803056063969,\"element\":\"H\",\"location\":[-3.2588896026735847,-2.1800433647172985,-0.22635645807697274]},{\"charge\":0.05837016061608925,\"element\":\"H\",\"location\":[-1.0722298678886566,-1.865601026031857,-0.8839292104729953]},{\"charge\":0.05837016061608925,\"element\":\"H\",\"location\":[-1.264745958332293,-2.734208458734785,0.6370118447095596]},{\"charge\":0.06466758763248871,\"element\":\"H\",\"location\":[-0.8933433673681992,-0.737627680820099,1.9618604355255485]},{\"charge\":0.0935445039053912,\"element\":\"H\",\"location\":[1.094035954323736,-1.5378741247443026,-1.0646349308660348]},{\"charge\":0.2125609720602366,\"element\":\"H\",\"location\":[3.230545899270061,-0.2521060262496284,0.180520117131476]},{\"charge\":0.06708920834170269,\"element\":\"H\",\"location\":[1.7831371901929196,0.7285888772595766,-1.8613117827298575]},{\"charge\":0.06475803341839921,\"element\":\"H\",\"location\":[-0.6702769716321839,0.3709672977488425,-1.7063769890500415]},{\"charge\":0.0646728414878028,\"element\":\"H\",\"location\":[-1.913167707611649,0.9876392815582224,0.3726355436617266]},{\"charge\":0.21000354802667717,\"element\":\"H\",\"location\":[-0.7821367902300365,1.6069681521639654,2.184454465925331]},{\"charge\":0.21000503395202802,\"element\":\"H\",\"location\":[0.1580726355342148,2.867132058089396,-0.6630849614808637]},{\"charge\":0.21011037659082735,\"element\":\"H\",\"location\":[1.4859204169631135,1.610566764255578,0.8095270995128496]}],\"bonds\":[{\"atoms\":[0,1],\"order\":1},{\"atoms\":[1,2],\"order\":1},{\"atoms\":[2,3],\"order\":1},{\"atoms\":[3,4],\"order\":1},{\"atoms\":[4,5],\"order\":1},{\"atoms\":[4,6],\"order\":1},{\"atoms\":[6,7],\"order\":1},{\"atoms\":[7,8],\"order\":1},{\"atoms\":[2,8],\"order\":1},{\"atoms\":[8,9],\"order\":1},{\"atoms\":[7,10],\"order\":1},{\"atoms\":[6,11],\"order\":1},{\"atoms\":[0,12],\"order\":1},{\"atoms\":[1,13],\"order\":1},{\"atoms\":[1,14],\"order\":1},{\"atoms\":[2,15],\"order\":1},{\"atoms\":[4,16],\"order\":1},{\"atoms\":[5,17],\"order\":1},{\"atoms\":[6,18],\"order\":1},{\"atoms\":[7,19],\"order\":1},{\"atoms\":[8,20],\"order\":1},{\"atoms\":[9,21],\"order\":1},{\"atoms\":[10,22],\"order\":1},{\"atoms\":[11,23],\"order\":1}],\"formula\":\"C6H12O6\",\"molecular_weight\":180.1558799999999,\"units\":{\"molecular_weight\":\"g / mol\"}});\n",
       "\n",
       "               $d.resizable({\n",
       "                   aspectRatio: 400 / 300,\n",
       "                   resize: function (evt, ui) {\n",
       "                       $d.imolecule.renderer.setSize(ui.size.width,\n",
       "                                                     ui.size.height);\n",
       "                   }\n",
       "               });\n",
       "           });\n",
       "           </script>"
      ],
      "text/plain": [
       "<pybel.Molecule at 0x13665b3abc8>"
      ]
     },
     "metadata": {},
     "output_type": "display_data"
    }
   ],
   "source": [
    "mols[0].draw(2)"
   ]
  },
  {
   "cell_type": "markdown",
   "metadata": {},
   "source": [
    "### Create gaussian jobs for each conformation"
   ]
  },
  {
   "cell_type": "code",
   "execution_count": 10,
   "metadata": {},
   "outputs": [
    {
     "name": "stderr",
     "output_type": "stream",
     "text": [
      "INFO:autoqchem.gaussian_input_generator:Generating Gaussian input files for 3 conformations.\n",
      "WARNING:autoqchem.slurm_manager:Molecule Fc1ccccc1 already exists with the same Gaussian config under tags ['dev']. Not creating jobs.\n"
     ]
    }
   ],
   "source": [
    "for mol in mols:\n",
    "    sm.create_jobs_for_molecule(mol, workflow_type=\"equilibrium\")"
   ]
  },
  {
   "cell_type": "code",
   "execution_count": 11,
   "metadata": {},
   "outputs": [
    {
     "data": {
      "text/html": [
       "<div>\n",
       "<style scoped>\n",
       "    .dataframe tbody tr th:only-of-type {\n",
       "        vertical-align: middle;\n",
       "    }\n",
       "\n",
       "    .dataframe tbody tr th {\n",
       "        vertical-align: top;\n",
       "    }\n",
       "\n",
       "    .dataframe thead th {\n",
       "        text-align: right;\n",
       "    }\n",
       "</style>\n",
       "<table border=\"1\" class=\"dataframe\">\n",
       "  <thead>\n",
       "    <tr style=\"text-align: right;\">\n",
       "      <th>status</th>\n",
       "      <th>created</th>\n",
       "    </tr>\n",
       "    <tr>\n",
       "      <th>can</th>\n",
       "      <th></th>\n",
       "    </tr>\n",
       "  </thead>\n",
       "  <tbody>\n",
       "    <tr>\n",
       "      <th>OCC1OC(O)C(C(C1O)O)O</th>\n",
       "      <td>3</td>\n",
       "    </tr>\n",
       "  </tbody>\n",
       "</table>\n",
       "</div>"
      ],
      "text/plain": [
       "status                created\n",
       "can                          \n",
       "OCC1OC(O)C(C(C1O)O)O        3"
      ]
     },
     "execution_count": 11,
     "metadata": {},
     "output_type": "execute_result"
    }
   ],
   "source": [
    "sm.get_job_stats(split_by_can=True)"
   ]
  },
  {
   "cell_type": "markdown",
   "metadata": {},
   "source": [
    "### Submit the jobs to the server \n",
    "\n",
    "if you are not connected, it will ask for password + Duo"
   ]
  },
  {
   "cell_type": "code",
   "execution_count": 27,
   "metadata": {
    "scrolled": true
   },
   "outputs": [
    {
     "name": "stderr",
     "output_type": "stream",
     "text": [
      "INFO:autoqchem.slurm_manager:Submitting 4 jobs.\n",
      "INFO:autoqchem.slurm_manager:Creating connection to adroit.princeton.edu as zuranski\n",
      "INFO:paramiko.transport:Connected (version 2.0, client OpenSSH_7.4)\n"
     ]
    },
    {
     "name": "stdout",
     "output_type": "stream",
     "text": [
      "\n",
      "\n",
      "Password: ········\n"
     ]
    },
    {
     "name": "stderr",
     "output_type": "stream",
     "text": [
      "INFO:paramiko.transport:Authentication (keyboard-interactive) successful!\n"
     ]
    },
    {
     "name": "stdout",
     "output_type": "stream",
     "text": [
      "\n",
      "\n"
     ]
    },
    {
     "name": "stderr",
     "output_type": "stream",
     "text": [
      "INFO:autoqchem.slurm_manager:Connected to adroit.princeton.edu as zuranski.\n",
      "INFO:paramiko.transport.sftp:[chan 1] Opened sftp connection (server version 3)\n",
      "INFO:autoqchem.slurm_manager:Submitted job e9162c5d891c1185cc2067d1ee73dccc, job_id: 696351.\n",
      "INFO:autoqchem.slurm_manager:Submitted job 91ad2194b2b0eec764c9338dda81fdbd, job_id: 696352.\n",
      "INFO:autoqchem.slurm_manager:Submitted job d38f6c69440bf07069e680b0aa1b5cb5, job_id: 696353.\n",
      "INFO:autoqchem.slurm_manager:Submitted job 9c59cc44031ac7020ca56bace39f26ce, job_id: 696354.\n"
     ]
    }
   ],
   "source": [
    "sm.submit_jobs()"
   ]
  },
  {
   "cell_type": "markdown",
   "metadata": {},
   "source": [
    "Check the status of the jobs, locally and remotely"
   ]
  },
  {
   "cell_type": "code",
   "execution_count": 35,
   "metadata": {},
   "outputs": [
    {
     "data": {
      "text/html": [
       "<div>\n",
       "<style scoped>\n",
       "    .dataframe tbody tr th:only-of-type {\n",
       "        vertical-align: middle;\n",
       "    }\n",
       "\n",
       "    .dataframe tbody tr th {\n",
       "        vertical-align: top;\n",
       "    }\n",
       "\n",
       "    .dataframe thead th {\n",
       "        text-align: right;\n",
       "    }\n",
       "</style>\n",
       "<table border=\"1\" class=\"dataframe\">\n",
       "  <thead>\n",
       "    <tr style=\"text-align: right;\">\n",
       "      <th>status</th>\n",
       "      <th>submitted</th>\n",
       "    </tr>\n",
       "    <tr>\n",
       "      <th>can</th>\n",
       "      <th></th>\n",
       "    </tr>\n",
       "  </thead>\n",
       "  <tbody>\n",
       "    <tr>\n",
       "      <th>Fc1ccccc1</th>\n",
       "      <td>1</td>\n",
       "    </tr>\n",
       "    <tr>\n",
       "      <th>OCC1OC(O)C(C(C1O)O)O</th>\n",
       "      <td>3</td>\n",
       "    </tr>\n",
       "  </tbody>\n",
       "</table>\n",
       "</div>"
      ],
      "text/plain": [
       "status                submitted\n",
       "can                            \n",
       "Fc1ccccc1                     1\n",
       "OCC1OC(O)C(C(C1O)O)O          3"
      ]
     },
     "execution_count": 35,
     "metadata": {},
     "output_type": "execute_result"
    }
   ],
   "source": [
    "sm.get_job_stats(split_by_can=True)"
   ]
  },
  {
   "cell_type": "code",
   "execution_count": 36,
   "metadata": {},
   "outputs": [
    {
     "data": {
      "text/html": [
       "<div>\n",
       "<style scoped>\n",
       "    .dataframe tbody tr th:only-of-type {\n",
       "        vertical-align: middle;\n",
       "    }\n",
       "\n",
       "    .dataframe tbody tr th {\n",
       "        vertical-align: top;\n",
       "    }\n",
       "\n",
       "    .dataframe thead th {\n",
       "        text-align: right;\n",
       "    }\n",
       "</style>\n",
       "<table border=\"1\" class=\"dataframe\">\n",
       "  <thead>\n",
       "    <tr style=\"text-align: right;\">\n",
       "      <th></th>\n",
       "      <th>JOBID</th>\n",
       "      <th>PARTITION</th>\n",
       "      <th>NAME</th>\n",
       "      <th>USER</th>\n",
       "      <th>ST</th>\n",
       "      <th>TIME</th>\n",
       "      <th>NODES</th>\n",
       "      <th>NODELIST(REASON)</th>\n",
       "    </tr>\n",
       "  </thead>\n",
       "  <tbody>\n",
       "  </tbody>\n",
       "</table>\n",
       "</div>"
      ],
      "text/plain": [
       "Empty DataFrame\n",
       "Columns: [JOBID, PARTITION, NAME, USER, ST, TIME, NODES, NODELIST(REASON)]\n",
       "Index: []"
      ]
     },
     "execution_count": 36,
     "metadata": {},
     "output_type": "execute_result"
    }
   ],
   "source": [
    "sm.squeue(summary=False)"
   ]
  },
  {
   "cell_type": "markdown",
   "metadata": {},
   "source": [
    "### Retrieve jobs\n",
    "\n",
    "If there are some finished jobs the log files will be checked for completion and downloaded locally."
   ]
  },
  {
   "cell_type": "code",
   "execution_count": 37,
   "metadata": {},
   "outputs": [
    {
     "name": "stderr",
     "output_type": "stream",
     "text": [
      "INFO:autoqchem.slurm_manager:There are 0 running/pending jobs, 4 finished jobs.\n",
      "INFO:autoqchem.slurm_manager:Retrieving log files of finished jobs.\n",
      "INFO:autoqchem.slurm_manager:4 jobs finished successfully (all Gaussian steps finished normally). 0 jobs failed.\n"
     ]
    }
   ],
   "source": [
    "sm.retrieve_jobs()"
   ]
  },
  {
   "cell_type": "markdown",
   "metadata": {},
   "source": [
    "### Resubmit incomplete jobs"
   ]
  },
  {
   "cell_type": "code",
   "execution_count": 40,
   "metadata": {},
   "outputs": [
    {
     "name": "stderr",
     "output_type": "stream",
     "text": [
      "INFO:autoqchem.slurm_manager:There are no failed jobs to resubmit.\n"
     ]
    }
   ],
   "source": [
    "sm.resubmit_incomplete_jobs()"
   ]
  },
  {
   "cell_type": "markdown",
   "metadata": {},
   "source": [
    "### Upload molecules to the database"
   ]
  },
  {
   "cell_type": "code",
   "execution_count": 39,
   "metadata": {},
   "outputs": [
    {
     "name": "stderr",
     "output_type": "stream",
     "text": [
      "INFO:autoqchem.slurm_manager:There are 2 finished molecules ['Fc1ccccc1', 'OCC1OC(O)C(C(C1O)O)O'].\n",
      "INFO:autoqchem.slurm_manager:Uploaded descriptors to DB for smiles: Fc1ccccc1, number of conformers: 1.\n",
      "INFO:autoqchem.slurm_manager:Molecule OCC1OC(O)C(C(C1O)O)O has 0 / 3 duplicate conformers.\n",
      "INFO:autoqchem.slurm_manager:Uploaded descriptors to DB for smiles: OCC1OC(O)C(C(C1O)O)O, number of conformers: 3.\n"
     ]
    }
   ],
   "source": [
    "sm.upload_done_molecules_to_db(tag=\"tutorial_AMZ\")"
   ]
  }
 ],
 "metadata": {
  "kernelspec": {
   "display_name": "Python 3",
   "language": "python",
   "name": "python3"
  },
  "language_info": {
   "codemirror_mode": {
    "name": "ipython",
    "version": 3
   },
   "file_extension": ".py",
   "mimetype": "text/x-python",
   "name": "python",
   "nbconvert_exporter": "python",
   "pygments_lexer": "ipython3",
   "version": "3.7.6"
  }
 },
 "nbformat": 4,
 "nbformat_minor": 4
}
