{
 "cells": [
  {
   "cell_type": "markdown",
   "metadata": {},
   "source": [
    "### Startup imports"
   ]
  },
  {
   "cell_type": "code",
   "execution_count": 106,
   "metadata": {},
   "outputs": [],
   "source": [
    "import pandas as pd\n",
    "\n",
    "from autoqchem.molecule import molecule\n",
    "from autoqchem.slurm_manager import slurm_manager\n",
    "\n",
    "import logging\n",
    "logging.basicConfig(level=logging.INFO)"
   ]
  },
  {
   "cell_type": "markdown",
   "metadata": {},
   "source": [
    "### Initialize the slurm manager\n",
    "\n",
    "Slurm manager is going to manage what jobs you have currently running, or created. It caches your information, so you can kill the notebook, turn-off your computer, go on vacation, and pick it up later. It will remember which jobs you haven't retrieved from the cluster, etc.\n",
    "\n",
    "Note: it won't ask you for login unless you execute a method that requires remote access"
   ]
  },
  {
   "cell_type": "code",
   "execution_count": 107,
   "metadata": {},
   "outputs": [],
   "source": [
    "sm=slurm_manager(user='zuranski', host='della.princeton.edu')"
   ]
  },
  {
   "cell_type": "markdown",
   "metadata": {},
   "source": [
    "### Provide some smiles string(s)\n",
    "\n",
    "and copy into them into ```my_smiles``` variable. It's a list of strings (a Python list can be of any size)"
   ]
  },
  {
   "cell_type": "code",
   "execution_count": 108,
   "metadata": {},
   "outputs": [],
   "source": [
    "my_smiles=[\n",
    "    \"\",\n",
    "    \"\",\n",
    "]"
   ]
  },
  {
   "cell_type": "markdown",
   "metadata": {},
   "source": [
    "For a list of smiles, you can also read them out from a csv file in this way, assumed file name ```smiles_strings.csv```, also assuming the strings are in the first column, and there are no headers"
   ]
  },
  {
   "cell_type": "code",
   "execution_count": 109,
   "metadata": {},
   "outputs": [
    {
     "data": {
      "text/plain": [
       "['CCC', 'CCCP', 'CCCO']"
      ]
     },
     "execution_count": 109,
     "metadata": {},
     "output_type": "execute_result"
    }
   ],
   "source": [
    "my_smiles = pd.read_csv(\"smiles_strings.csv\", header=None, usecols=[0])[0].tolist()\n",
    "my_smiles"
   ]
  },
  {
   "cell_type": "markdown",
   "metadata": {},
   "source": [
    "### Initialize the molecules and generate conformations\n",
    "\n",
    "We will use some ```for``` loops to loop over the smiles"
   ]
  },
  {
   "cell_type": "code",
   "execution_count": 110,
   "metadata": {},
   "outputs": [
    {
     "name": "stderr",
     "output_type": "stream",
     "text": [
      "INFO:autoqchem.molecule:Initializing molecule with canonical smiles: CCC\n",
      "INFO:autoqchem.molecule:Creating initial geometry with option 'best'.\n",
      "INFO:autoqchem.molecule:Initial geometry created successfully.\n",
      "INFO:autoqchem.molecule:Conformer Search generated 1 conformations of CCC molecule\n",
      "INFO:autoqchem.molecule:Initializing molecule with canonical smiles: CCCP\n",
      "INFO:autoqchem.molecule:Creating initial geometry with option 'best'.\n",
      "INFO:autoqchem.molecule:Initial geometry created successfully.\n",
      "INFO:autoqchem.molecule:Conformer Search generated 3 conformations of CCCP molecule\n",
      "INFO:autoqchem.molecule:Initializing molecule with canonical smiles: CCCO\n",
      "INFO:autoqchem.molecule:Creating initial geometry with option 'best'.\n",
      "INFO:autoqchem.molecule:Initial geometry created successfully.\n",
      "INFO:autoqchem.molecule:Conformer Search generated 3 conformations of CCCO molecule\n"
     ]
    }
   ],
   "source": [
    "mols = []\n",
    "for smile in my_smiles:\n",
    "    mols.append(molecule(smile, max_num_conformers=3))"
   ]
  },
  {
   "cell_type": "markdown",
   "metadata": {},
   "source": [
    "Draw some molecules just for fun"
   ]
  },
  {
   "cell_type": "code",
   "execution_count": 139,
   "metadata": {},
   "outputs": [
    {
     "data": {
      "text/html": [
       "<div id=\"molecule_1d11eaa2-c6e8-4357-865b-061a00e24811\"></div>\n",
       "           <script type=\"text/javascript\">\n",
       "           require.config({baseUrl: '/',\n",
       "                           paths: {imolecule: ['nbextensions/imolecule.min', 'https://rawgit.com/patrickfuller/imolecule/master/imolecule/js/build/imolecule.min']}});\n",
       "           require(['imolecule'], function () {\n",
       "               var $d = $('#molecule_1d11eaa2-c6e8-4357-865b-061a00e24811');\n",
       "               $d.width(400); $d.height(300);\n",
       "               $d.imolecule = jQuery.extend({}, imolecule);\n",
       "               $d.imolecule.create($d, {drawingType: 'ball and stick',\n",
       "                                        cameraType: 'perspective',\n",
       "                                        shader: 'lambert',\n",
       "                                        showSave: false});\n",
       "               $d.imolecule.addElements({});\n",
       "               $d.imolecule.draw({\"atoms\":[{\"charge\":-0.06497485591844186,\"element\":\"C\",\"location\":[-1.140529037065829,-0.5358897769538187,0.7892983134189422]},{\"charge\":-0.05244140479973435,\"element\":\"C\",\"location\":[0.3798381290770627,-0.5845925451859234,0.7711831386863106]},{\"charge\":-0.03798016867322427,\"element\":\"C\",\"location\":[0.9369136324893113,-0.02292754268458852,-0.5338922438609015]},{\"charge\":-0.1371089783517672,\"element\":\"P\",\"location\":[0.42141235817245226,1.732425846426021,-0.8008912701154247]},{\"charge\":0.022987603041285137,\"element\":\"H\",\"location\":[-1.5214467401337917,-0.9421656244870781,1.7315345127520698]},{\"charge\":0.022987603041285137,\"element\":\"H\",\"location\":[-1.5617510348249142,-1.126812050367201,-0.030303633622332682]},{\"charge\":0.022987603041285137,\"element\":\"H\",\"location\":[-1.501232606489204,0.49314966403363136,0.6926693407163491]},{\"charge\":0.026583278372745916,\"element\":\"H\",\"location\":[0.7038397355289647,-1.6236655976902368,0.9088603360613198]},{\"charge\":0.026583278372745916,\"element\":\"H\",\"location\":[0.7638331526661255,-0.015111779966038408,1.6266745427176676]},{\"charge\":0.030830451857904995,\"element\":\"H\",\"location\":[0.5887994747683889,-0.622801782104479,-1.3818863364612075]},{\"charge\":0.030830451857904995,\"element\":\"H\",\"location\":[2.031450698190913,-0.06660824564903023,-0.5264771037753602]},{\"charge\":0.05435756907900522,\"element\":\"H\",\"location\":[-0.9384976095145039,1.4772220981731352,-1.0975085270384963]},{\"charge\":0.05435756907900522,\"element\":\"H\",\"location\":[0.8373698471350228,1.8377773364556078,-2.149261069478938]}],\"bonds\":[{\"atoms\":[0,1],\"order\":1},{\"atoms\":[1,2],\"order\":1},{\"atoms\":[2,3],\"order\":1},{\"atoms\":[0,4],\"order\":1},{\"atoms\":[0,5],\"order\":1},{\"atoms\":[0,6],\"order\":1},{\"atoms\":[1,7],\"order\":1},{\"atoms\":[1,8],\"order\":1},{\"atoms\":[2,9],\"order\":1},{\"atoms\":[2,10],\"order\":1},{\"atoms\":[3,11],\"order\":1},{\"atoms\":[3,12],\"order\":1}],\"formula\":\"C3H9P\",\"molecular_weight\":76.07732100000004,\"units\":{\"molecular_weight\":\"g / mol\"}});\n",
       "\n",
       "               $d.resizable({\n",
       "                   aspectRatio: 400 / 300,\n",
       "                   resize: function (evt, ui) {\n",
       "                       $d.imolecule.renderer.setSize(ui.size.width,\n",
       "                                                     ui.size.height);\n",
       "                   }\n",
       "               });\n",
       "           });\n",
       "           </script>"
      ],
      "text/plain": [
       "<pybel.Molecule at 0x1aaeeede308>"
      ]
     },
     "metadata": {},
     "output_type": "display_data"
    }
   ],
   "source": [
    "mols[1].draw(2)"
   ]
  },
  {
   "cell_type": "markdown",
   "metadata": {},
   "source": [
    "### Create gaussian jobs for each conformation"
   ]
  },
  {
   "cell_type": "code",
   "execution_count": 113,
   "metadata": {},
   "outputs": [
    {
     "name": "stderr",
     "output_type": "stream",
     "text": [
      "INFO:autoqchem.gaussian_input_generator:Generating Gaussian input files for 1 conformations.\n",
      "INFO:autoqchem.gaussian_input_generator:Generating Gaussian input files for 3 conformations.\n",
      "INFO:autoqchem.gaussian_input_generator:Generating Gaussian input files for 3 conformations.\n"
     ]
    }
   ],
   "source": [
    "for mol in mols:\n",
    "    sm.create_jobs_for_molecule(mol, workflow_type=\"equilibrium\")"
   ]
  },
  {
   "cell_type": "markdown",
   "metadata": {},
   "source": [
    "Where is this all happening?? where are the input files?? \n",
    "\n",
    "Just like most of your applications it uses the 'AppData' directories, they will differ depending on the OS"
   ]
  },
  {
   "cell_type": "code",
   "execution_count": 114,
   "metadata": {},
   "outputs": [
    {
     "data": {
      "text/plain": [
       "'C:\\\\Users\\\\AndrzejZuranski\\\\AppData\\\\Local\\\\autoqchem\\\\della'"
      ]
     },
     "execution_count": 114,
     "metadata": {},
     "output_type": "execute_result"
    }
   ],
   "source": [
    "sm.workdir"
   ]
  },
  {
   "cell_type": "code",
   "execution_count": 138,
   "metadata": {},
   "outputs": [
    {
     "data": {
      "text/plain": [
       "'/home/zuranski/gaussian'"
      ]
     },
     "execution_count": 138,
     "metadata": {},
     "output_type": "execute_result"
    }
   ],
   "source": [
    "sm.remote_dir"
   ]
  },
  {
   "cell_type": "code",
   "execution_count": 115,
   "metadata": {},
   "outputs": [
    {
     "data": {
      "text/html": [
       "<div>\n",
       "<style scoped>\n",
       "    .dataframe tbody tr th:only-of-type {\n",
       "        vertical-align: middle;\n",
       "    }\n",
       "\n",
       "    .dataframe tbody tr th {\n",
       "        vertical-align: top;\n",
       "    }\n",
       "\n",
       "    .dataframe thead th {\n",
       "        text-align: right;\n",
       "    }\n",
       "</style>\n",
       "<table border=\"1\" class=\"dataframe\">\n",
       "  <thead>\n",
       "    <tr style=\"text-align: right;\">\n",
       "      <th>status</th>\n",
       "      <th>created</th>\n",
       "    </tr>\n",
       "    <tr>\n",
       "      <th>can</th>\n",
       "      <th></th>\n",
       "    </tr>\n",
       "  </thead>\n",
       "  <tbody>\n",
       "    <tr>\n",
       "      <th>CCC</th>\n",
       "      <td>1</td>\n",
       "    </tr>\n",
       "    <tr>\n",
       "      <th>CCCO</th>\n",
       "      <td>3</td>\n",
       "    </tr>\n",
       "    <tr>\n",
       "      <th>CCCP</th>\n",
       "      <td>3</td>\n",
       "    </tr>\n",
       "  </tbody>\n",
       "</table>\n",
       "</div>"
      ],
      "text/plain": [
       "status  created\n",
       "can            \n",
       "CCC           1\n",
       "CCCO          3\n",
       "CCCP          3"
      ]
     },
     "execution_count": 115,
     "metadata": {},
     "output_type": "execute_result"
    }
   ],
   "source": [
    "sm.get_job_stats(split_by_can=True)"
   ]
  },
  {
   "cell_type": "markdown",
   "metadata": {},
   "source": [
    "### Submit the jobs to the server \n",
    "\n",
    "if you are not connected, it will ask for password + Duo"
   ]
  },
  {
   "cell_type": "code",
   "execution_count": 116,
   "metadata": {
    "scrolled": true
   },
   "outputs": [
    {
     "name": "stderr",
     "output_type": "stream",
     "text": [
      "INFO:autoqchem.slurm_manager:Submitting 7 jobs.\n",
      "INFO:autoqchem.slurm_manager:Creating connection to della.princeton.edu as zuranski\n",
      "INFO:paramiko.transport:Connected (version 2.0, client OpenSSH_7.4)\n"
     ]
    },
    {
     "name": "stdout",
     "output_type": "stream",
     "text": [
      "\n",
      "\n",
      "Password: ········\n"
     ]
    },
    {
     "name": "stderr",
     "output_type": "stream",
     "text": [
      "INFO:paramiko.transport:Authentication (keyboard-interactive) successful!\n"
     ]
    },
    {
     "name": "stdout",
     "output_type": "stream",
     "text": [
      "\n",
      "\n"
     ]
    },
    {
     "name": "stderr",
     "output_type": "stream",
     "text": [
      "INFO:autoqchem.slurm_manager:Connected to della.princeton.edu as zuranski.\n",
      "INFO:paramiko.transport.sftp:[chan 1] Opened sftp connection (server version 3)\n",
      "INFO:autoqchem.slurm_manager:Submitted job b789590fe3d6ff2a0cdffd45113bd0c7, job_id: 28752734.\n",
      "INFO:autoqchem.slurm_manager:Submitted job 1122392e48c5e379689d48717e8125ec, job_id: 28752735.\n",
      "INFO:autoqchem.slurm_manager:Submitted job 9e7d2b1dff7d548bc9275c1902d08c5b, job_id: 28752736.\n",
      "INFO:autoqchem.slurm_manager:Submitted job d73aa63b8e2379f7bf33ffc7724cb7b1, job_id: 28752737.\n",
      "INFO:autoqchem.slurm_manager:Submitted job 9a00c301e3fe7c8d856495d371a2726b, job_id: 28752738.\n",
      "INFO:autoqchem.slurm_manager:Submitted job f26a51025b84f583b965c1b51ff5af01, job_id: 28752739.\n",
      "INFO:autoqchem.slurm_manager:Submitted job 32c630d8df6a16618e390a156c680585, job_id: 28752740.\n"
     ]
    }
   ],
   "source": [
    "sm.submit_jobs()"
   ]
  },
  {
   "cell_type": "markdown",
   "metadata": {},
   "source": [
    "Check the status of the jobs, locally and remotely"
   ]
  },
  {
   "cell_type": "code",
   "execution_count": 140,
   "metadata": {},
   "outputs": [
    {
     "data": {
      "text/html": [
       "<div>\n",
       "<style scoped>\n",
       "    .dataframe tbody tr th:only-of-type {\n",
       "        vertical-align: middle;\n",
       "    }\n",
       "\n",
       "    .dataframe tbody tr th {\n",
       "        vertical-align: top;\n",
       "    }\n",
       "\n",
       "    .dataframe thead th {\n",
       "        text-align: right;\n",
       "    }\n",
       "</style>\n",
       "<table border=\"1\" class=\"dataframe\">\n",
       "  <thead>\n",
       "    <tr style=\"text-align: right;\">\n",
       "      <th>status</th>\n",
       "    </tr>\n",
       "    <tr>\n",
       "      <th>can</th>\n",
       "    </tr>\n",
       "  </thead>\n",
       "  <tbody>\n",
       "  </tbody>\n",
       "</table>\n",
       "</div>"
      ],
      "text/plain": [
       "Empty DataFrame\n",
       "Columns: []\n",
       "Index: []"
      ]
     },
     "execution_count": 140,
     "metadata": {},
     "output_type": "execute_result"
    }
   ],
   "source": [
    "sm.get_job_stats(split_by_can=True)"
   ]
  },
  {
   "cell_type": "code",
   "execution_count": 133,
   "metadata": {},
   "outputs": [
    {
     "data": {
      "text/html": [
       "<div>\n",
       "<style scoped>\n",
       "    .dataframe tbody tr th:only-of-type {\n",
       "        vertical-align: middle;\n",
       "    }\n",
       "\n",
       "    .dataframe tbody tr th {\n",
       "        vertical-align: top;\n",
       "    }\n",
       "\n",
       "    .dataframe thead th {\n",
       "        text-align: right;\n",
       "    }\n",
       "</style>\n",
       "<table border=\"1\" class=\"dataframe\">\n",
       "  <thead>\n",
       "    <tr style=\"text-align: right;\">\n",
       "      <th></th>\n",
       "      <th>JOBID</th>\n",
       "      <th>PARTITION</th>\n",
       "      <th>NAME</th>\n",
       "      <th>USER</th>\n",
       "      <th>ST</th>\n",
       "      <th>TIME</th>\n",
       "      <th>NODES</th>\n",
       "      <th>NODELIST(REASON)</th>\n",
       "    </tr>\n",
       "  </thead>\n",
       "  <tbody>\n",
       "  </tbody>\n",
       "</table>\n",
       "</div>"
      ],
      "text/plain": [
       "Empty DataFrame\n",
       "Columns: [JOBID, PARTITION, NAME, USER, ST, TIME, NODES, NODELIST(REASON)]\n",
       "Index: []"
      ]
     },
     "execution_count": 133,
     "metadata": {},
     "output_type": "execute_result"
    }
   ],
   "source": [
    "sm.squeue(summary=False)"
   ]
  },
  {
   "cell_type": "markdown",
   "metadata": {},
   "source": [
    "### Retrieve jobs\n",
    "\n",
    "If there are some finished jobs the log files will be checked for completion and downloaded locally."
   ]
  },
  {
   "cell_type": "code",
   "execution_count": 134,
   "metadata": {},
   "outputs": [
    {
     "name": "stderr",
     "output_type": "stream",
     "text": [
      "INFO:autoqchem.slurm_manager:There are 0 running/pending jobs, 7 finished jobs.\n",
      "INFO:autoqchem.slurm_manager:Retrieving log files of finished jobs.\n",
      "INFO:autoqchem.slurm_manager:7 jobs finished successfully (all Gaussian steps finished normally). 0 jobs failed.\n"
     ]
    }
   ],
   "source": [
    "sm.retrieve_jobs()"
   ]
  },
  {
   "cell_type": "markdown",
   "metadata": {},
   "source": [
    "### Resubmit failed jobs"
   ]
  },
  {
   "cell_type": "code",
   "execution_count": 137,
   "metadata": {},
   "outputs": [
    {
     "name": "stderr",
     "output_type": "stream",
     "text": [
      "INFO:autoqchem.slurm_manager:There are no failed jobs to resubmit.\n"
     ]
    }
   ],
   "source": [
    "sm.resubmit_failed_jobs()"
   ]
  },
  {
   "cell_type": "markdown",
   "metadata": {},
   "source": [
    "### Upload molecules to the database"
   ]
  },
  {
   "cell_type": "code",
   "execution_count": 136,
   "metadata": {},
   "outputs": [
    {
     "name": "stderr",
     "output_type": "stream",
     "text": [
      "INFO:autoqchem.slurm_manager:There are 3 finished molecules ['CCC', 'CCCO', 'CCCP'].\n",
      "INFO:autoqchem.slurm_manager:Uploaded descriptors to DB for smiles: CCC, number of conformers: 1.\n",
      "INFO:autoqchem.slurm_manager:Molecule CCCO has 0 / 3 duplicate conformers.\n",
      "INFO:autoqchem.slurm_manager:Uploaded descriptors to DB for smiles: CCCO, number of conformers: 3.\n",
      "INFO:autoqchem.slurm_manager:Molecule CCCP has 0 / 3 duplicate conformers.\n",
      "INFO:autoqchem.slurm_manager:Uploaded descriptors to DB for smiles: CCCP, number of conformers: 3.\n"
     ]
    }
   ],
   "source": [
    "sm.upload_done_molecules_to_db(tag=\"tutorial\")"
   ]
  },
  {
   "cell_type": "code",
   "execution_count": null,
   "metadata": {},
   "outputs": [],
   "source": []
  }
 ],
 "metadata": {
  "kernelspec": {
   "display_name": "Python 3",
   "language": "python",
   "name": "python3"
  },
  "language_info": {
   "codemirror_mode": {
    "name": "ipython",
    "version": 3
   },
   "file_extension": ".py",
   "mimetype": "text/x-python",
   "name": "python",
   "nbconvert_exporter": "python",
   "pygments_lexer": "ipython3",
   "version": "3.7.6"
  }
 },
 "nbformat": 4,
 "nbformat_minor": 2
}
