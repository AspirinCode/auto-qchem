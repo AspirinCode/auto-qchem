{
 "cells": [
  {
   "cell_type": "code",
   "execution_count": 1,
   "metadata": {},
   "outputs": [
    {
     "name": "stderr",
     "output_type": "stream",
     "text": [
      "RDKit WARNING: [21:37:48] Enabling RDKit 2019.09.3 jupyter extensions\n"
     ]
    }
   ],
   "source": [
    "import pandas as pd\n",
    "import numpy as np\n",
    "import mordred\n",
    "from rdkit import Chem\n",
    "from mordred import Calculator, descriptors"
   ]
  },
  {
   "cell_type": "code",
   "execution_count": 2,
   "metadata": {},
   "outputs": [],
   "source": [
    "# fetch smiles lists\n",
    "df = pd.read_csv(\"...csv\")"
   ]
  },
  {
   "cell_type": "markdown",
   "metadata": {},
   "source": [
    "### Prepare rdkit molecules"
   ]
  },
  {
   "cell_type": "code",
   "execution_count": 3,
   "metadata": {},
   "outputs": [],
   "source": [
    "# make rdkit mols\n",
    "df['rdmol'] = b_nvts['smiles'].map(lambda x: Chem.MolFromSmiles(x))\n",
    "\n",
    "# drop molecules that rdkit cannot handle\n",
    "df= df.dropna(subset=['rdmol'])"
   ]
  },
  {
   "cell_type": "code",
   "execution_count": 4,
   "metadata": {},
   "outputs": [],
   "source": [
    "# get inchi\n",
    "df['inchi'] = df['rdmol'].map(Chem.MolToInchi)"
   ]
  },
  {
   "cell_type": "code",
   "execution_count": 6,
   "metadata": {},
   "outputs": [],
   "source": [
    "# drop duplicates on inchi\n",
    "df = df.drop_duplicates(subset=\"inchi\")"
   ]
  },
  {
   "cell_type": "markdown",
   "metadata": {},
   "source": [
    "### Calculate Mordred descriptors"
   ]
  },
  {
   "cell_type": "code",
   "execution_count": 11,
   "metadata": {},
   "outputs": [],
   "source": [
    "# initialize Mordred calculators\n",
    "calc=Calculator(descriptors, ignore_3D=True,)"
   ]
  },
  {
   "cell_type": "code",
   "execution_count": 12,
   "metadata": {},
   "outputs": [
    {
     "name": "stderr",
     "output_type": "stream",
     "text": [
      "100%|████████████████████████████████████████████████████████████████████████████| 1000/1000 [00:55<00:00, 17.96it/s]\n"
     ]
    },
    {
     "name": "stdout",
     "output_type": "stream",
     "text": [
      "Wall time: 57.8 s\n"
     ]
    }
   ],
   "source": [
    "%%time\n",
    "# compute Mordred descriptors for all molecules (may take long)\n",
    "md=calc.pandas(df['rdmol'])"
   ]
  },
  {
   "cell_type": "code",
   "execution_count": 13,
   "metadata": {},
   "outputs": [],
   "source": [
    "# replace mordred errors with NaNs\n",
    "md=md.applymap(lambda x: np.nan if type(x) in [mordred.error.Missing,\n",
    "                                               mordred.error.Error] else x)"
   ]
  },
  {
   "cell_type": "code",
   "execution_count": 14,
   "metadata": {},
   "outputs": [],
   "source": [
    "# drop columns that have NaNs\n",
    "md=md.dropna(axis=1)"
   ]
  },
  {
   "cell_type": "code",
   "execution_count": 180,
   "metadata": {},
   "outputs": [],
   "source": [
    "# concatenate info and descriptors\n",
    "to_save=pd.concat([df.drop('rdmol', axis=1), md], axis=1)"
   ]
  },
  {
   "cell_type": "code",
   "execution_count": 181,
   "metadata": {},
   "outputs": [
    {
     "data": {
      "text/html": [
       "<div>\n",
       "<style scoped>\n",
       "    .dataframe tbody tr th:only-of-type {\n",
       "        vertical-align: middle;\n",
       "    }\n",
       "\n",
       "    .dataframe tbody tr th {\n",
       "        vertical-align: top;\n",
       "    }\n",
       "\n",
       "    .dataframe thead th {\n",
       "        text-align: right;\n",
       "    }\n",
       "</style>\n",
       "<table border=\"1\" class=\"dataframe\">\n",
       "  <thead>\n",
       "    <tr style=\"text-align: right;\">\n",
       "      <th></th>\n",
       "      <th>inchi</th>\n",
       "      <th>aryl</th>\n",
       "      <th>type</th>\n",
       "      <th>NV</th>\n",
       "      <th>Reaxys</th>\n",
       "      <th>Common</th>\n",
       "      <th>ABC</th>\n",
       "      <th>ABCGG</th>\n",
       "      <th>nAcid</th>\n",
       "      <th>nBase</th>\n",
       "      <th>...</th>\n",
       "      <th>SRW09</th>\n",
       "      <th>SRW10</th>\n",
       "      <th>TSRW10</th>\n",
       "      <th>MW</th>\n",
       "      <th>AMW</th>\n",
       "      <th>WPath</th>\n",
       "      <th>WPol</th>\n",
       "      <th>Zagreb1</th>\n",
       "      <th>Zagreb2</th>\n",
       "      <th>mZagreb2</th>\n",
       "    </tr>\n",
       "  </thead>\n",
       "  <tbody>\n",
       "    <tr>\n",
       "      <th>0</th>\n",
       "      <td>InChI=1S/C9H12BClO3/c1-6(2)14-9-4-3-7(11)5-8(9...</td>\n",
       "      <td>aryl</td>\n",
       "      <td>ba</td>\n",
       "      <td>True</td>\n",
       "      <td>True</td>\n",
       "      <td>True</td>\n",
       "      <td>10.365564</td>\n",
       "      <td>9.738246</td>\n",
       "      <td>0</td>\n",
       "      <td>0</td>\n",
       "      <td>...</td>\n",
       "      <td>0.000000</td>\n",
       "      <td>9.299175</td>\n",
       "      <td>45.122750</td>\n",
       "      <td>214.056802</td>\n",
       "      <td>8.232954</td>\n",
       "      <td>300</td>\n",
       "      <td>18</td>\n",
       "      <td>66.0</td>\n",
       "      <td>73.0</td>\n",
       "      <td>3.138889</td>\n",
       "    </tr>\n",
       "    <tr>\n",
       "      <th>1</th>\n",
       "      <td>InChI=1S/C8H10BFO2/c1-5-4-8(10)6(2)3-7(5)9(11)...</td>\n",
       "      <td>aryl</td>\n",
       "      <td>ba</td>\n",
       "      <td>True</td>\n",
       "      <td>True</td>\n",
       "      <td>True</td>\n",
       "      <td>8.910910</td>\n",
       "      <td>8.583028</td>\n",
       "      <td>0</td>\n",
       "      <td>0</td>\n",
       "      <td>...</td>\n",
       "      <td>0.000000</td>\n",
       "      <td>9.296977</td>\n",
       "      <td>42.737439</td>\n",
       "      <td>168.075788</td>\n",
       "      <td>7.639809</td>\n",
       "      <td>187</td>\n",
       "      <td>17</td>\n",
       "      <td>58.0</td>\n",
       "      <td>66.0</td>\n",
       "      <td>2.666667</td>\n",
       "    </tr>\n",
       "    <tr>\n",
       "      <th>2</th>\n",
       "      <td>InChI=1S/C12H16BFO2/c1-11(2)12(3,4)16-13(15-11...</td>\n",
       "      <td>aryl</td>\n",
       "      <td>bpin</td>\n",
       "      <td>True</td>\n",
       "      <td>True</td>\n",
       "      <td>True</td>\n",
       "      <td>12.630705</td>\n",
       "      <td>11.241455</td>\n",
       "      <td>0</td>\n",
       "      <td>0</td>\n",
       "      <td>...</td>\n",
       "      <td>7.195187</td>\n",
       "      <td>9.919115</td>\n",
       "      <td>63.748556</td>\n",
       "      <td>222.122738</td>\n",
       "      <td>6.941336</td>\n",
       "      <td>423</td>\n",
       "      <td>25</td>\n",
       "      <td>88.0</td>\n",
       "      <td>104.0</td>\n",
       "      <td>3.256944</td>\n",
       "    </tr>\n",
       "    <tr>\n",
       "      <th>3</th>\n",
       "      <td>InChI=1S/C15H24BNO4/c1-13(2,3)19-12(18)17-10-8...</td>\n",
       "      <td>hetaryl</td>\n",
       "      <td>bpin</td>\n",
       "      <td>True</td>\n",
       "      <td>True</td>\n",
       "      <td>True</td>\n",
       "      <td>16.562115</td>\n",
       "      <td>15.535186</td>\n",
       "      <td>0</td>\n",
       "      <td>0</td>\n",
       "      <td>...</td>\n",
       "      <td>7.635787</td>\n",
       "      <td>10.172560</td>\n",
       "      <td>71.682278</td>\n",
       "      <td>293.179839</td>\n",
       "      <td>6.515108</td>\n",
       "      <td>899</td>\n",
       "      <td>32</td>\n",
       "      <td>116.0</td>\n",
       "      <td>136.0</td>\n",
       "      <td>4.187500</td>\n",
       "    </tr>\n",
       "    <tr>\n",
       "      <th>4</th>\n",
       "      <td>InChI=1S/C12H11BO3/c14-13(15)10-6-8-12(9-7-10)...</td>\n",
       "      <td>aryl</td>\n",
       "      <td>ba</td>\n",
       "      <td>True</td>\n",
       "      <td>True</td>\n",
       "      <td>True</td>\n",
       "      <td>12.199155</td>\n",
       "      <td>9.978922</td>\n",
       "      <td>0</td>\n",
       "      <td>0</td>\n",
       "      <td>...</td>\n",
       "      <td>0.000000</td>\n",
       "      <td>9.370331</td>\n",
       "      <td>47.806046</td>\n",
       "      <td>214.080125</td>\n",
       "      <td>7.928894</td>\n",
       "      <td>489</td>\n",
       "      <td>20</td>\n",
       "      <td>78.0</td>\n",
       "      <td>87.0</td>\n",
       "      <td>3.611111</td>\n",
       "    </tr>\n",
       "  </tbody>\n",
       "</table>\n",
       "<p>5 rows × 1003 columns</p>\n",
       "</div>"
      ],
      "text/plain": [
       "                                               inchi     aryl  type    NV  \\\n",
       "0  InChI=1S/C9H12BClO3/c1-6(2)14-9-4-3-7(11)5-8(9...     aryl    ba  True   \n",
       "1  InChI=1S/C8H10BFO2/c1-5-4-8(10)6(2)3-7(5)9(11)...     aryl    ba  True   \n",
       "2  InChI=1S/C12H16BFO2/c1-11(2)12(3,4)16-13(15-11...     aryl  bpin  True   \n",
       "3  InChI=1S/C15H24BNO4/c1-13(2,3)19-12(18)17-10-8...  hetaryl  bpin  True   \n",
       "4  InChI=1S/C12H11BO3/c14-13(15)10-6-8-12(9-7-10)...     aryl    ba  True   \n",
       "\n",
       "   Reaxys  Common        ABC      ABCGG  nAcid  nBase  ...     SRW09  \\\n",
       "0    True    True  10.365564   9.738246      0      0  ...  0.000000   \n",
       "1    True    True   8.910910   8.583028      0      0  ...  0.000000   \n",
       "2    True    True  12.630705  11.241455      0      0  ...  7.195187   \n",
       "3    True    True  16.562115  15.535186      0      0  ...  7.635787   \n",
       "4    True    True  12.199155   9.978922      0      0  ...  0.000000   \n",
       "\n",
       "       SRW10     TSRW10          MW       AMW  WPath  WPol  Zagreb1  Zagreb2  \\\n",
       "0   9.299175  45.122750  214.056802  8.232954    300    18     66.0     73.0   \n",
       "1   9.296977  42.737439  168.075788  7.639809    187    17     58.0     66.0   \n",
       "2   9.919115  63.748556  222.122738  6.941336    423    25     88.0    104.0   \n",
       "3  10.172560  71.682278  293.179839  6.515108    899    32    116.0    136.0   \n",
       "4   9.370331  47.806046  214.080125  7.928894    489    20     78.0     87.0   \n",
       "\n",
       "   mZagreb2  \n",
       "0  3.138889  \n",
       "1  2.666667  \n",
       "2  3.256944  \n",
       "3  4.187500  \n",
       "4  3.611111  \n",
       "\n",
       "[5 rows x 1003 columns]"
      ]
     },
     "execution_count": 181,
     "metadata": {},
     "output_type": "execute_result"
    }
   ],
   "source": [
    "# peak\n",
    "to_save.head()"
   ]
  },
  {
   "cell_type": "code",
   "execution_count": 184,
   "metadata": {},
   "outputs": [],
   "source": [
    "# save to csv\n",
    "to_save.to_csv(\"...\", index=False)"
   ]
  }
 ],
 "metadata": {
  "kernelspec": {
   "display_name": "Python 3",
   "language": "python",
   "name": "python3"
  },
  "language_info": {
   "codemirror_mode": {
    "name": "ipython",
    "version": 3
   },
   "file_extension": ".py",
   "mimetype": "text/x-python",
   "name": "python",
   "nbconvert_exporter": "python",
   "pygments_lexer": "ipython3",
   "version": "3.7.6"
  }
 },
 "nbformat": 4,
 "nbformat_minor": 4
}
