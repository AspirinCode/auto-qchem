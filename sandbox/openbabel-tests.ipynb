{
 "cells": [
  {
   "cell_type": "code",
   "execution_count": 1,
   "metadata": {},
   "outputs": [],
   "source": [
    "from openbabel import pybel"
   ]
  },
  {
   "cell_type": "code",
   "execution_count": 11,
   "metadata": {},
   "outputs": [],
   "source": [
    "smi='C1=CC=C(C=C1)P(C2=CC=CC=C2)C3=C(C4=CC=CC=C4C=C3)C5=C(C=CC6=CC=CC=C65)P(C7=CC=CC=C7)C8=CC=CC=C8'\n",
    "#smi='[B-](F)(F)(F)F.C1CCC(CC1)[PH+](C2CCCCC2)C3CCCCC3'\n",
    "#smi='[B-](F)(F)(F)F'\n",
    "#smi='C1CCC(CC1)[PH+](C2CCCCC2)C3CCCCC3'\n",
    "#smi='COc1ccccc1P(c2ccccc2OC)c3ccccc3OC'\n",
    "mol = pybel.readstring(\"smi\", smi).OBMol"
   ]
  },
  {
   "cell_type": "code",
   "execution_count": 12,
   "metadata": {},
   "outputs": [
    {
     "data": {
      "text/plain": [
       "<openbabel.openbabel.OBMol; proxy of <Swig Object of type 'OpenBabel::OBMol *' at 0x000001FB618524B0> >"
      ]
     },
     "execution_count": 12,
     "metadata": {},
     "output_type": "execute_result"
    }
   ],
   "source": [
    "mol"
   ]
  },
  {
   "cell_type": "code",
   "execution_count": 17,
   "metadata": {},
   "outputs": [
    {
     "data": {
      "text/plain": [
       "True"
      ]
     },
     "execution_count": 17,
     "metadata": {},
     "output_type": "execute_result"
    }
   ],
   "source": [
    "mol.AddHydrogens()\n",
    "builder = pybel.ob.OBBuilder()\n",
    "builder.Build(mol)"
   ]
  },
  {
   "cell_type": "code",
   "execution_count": 19,
   "metadata": {},
   "outputs": [
    {
     "data": {
      "text/plain": [
       "True"
      ]
     },
     "execution_count": 19,
     "metadata": {},
     "output_type": "execute_result"
    }
   ],
   "source": [
    "conv = pybel.ob.OBConversion()\n",
    "conv.SetOutFormat(\"gjf\")"
   ]
  },
  {
   "cell_type": "code",
   "execution_count": 21,
   "metadata": {},
   "outputs": [
    {
     "data": {
      "text/plain": [
       "True"
      ]
     },
     "execution_count": 21,
     "metadata": {},
     "output_type": "execute_result"
    }
   ],
   "source": [
    "mol.SetTitle(\"asdf\")\n",
    "conv.WriteFile(mol, \"data/babel_out.gjf\")"
   ]
  },
  {
   "cell_type": "code",
   "execution_count": 5,
   "metadata": {},
   "outputs": [],
   "source": [
    "#mol.make3D()\n",
    "#mol.localopt()\n",
    "#mol"
   ]
  },
  {
   "cell_type": "code",
   "execution_count": 18,
   "metadata": {
    "scrolled": true
   },
   "outputs": [
    {
     "ename": "AttributeError",
     "evalue": "'OBMol' object has no attribute 'write'",
     "output_type": "error",
     "traceback": [
      "\u001b[1;31m---------------------------------------------------------------------------\u001b[0m",
      "\u001b[1;31mAttributeError\u001b[0m                            Traceback (most recent call last)",
      "\u001b[1;32m<ipython-input-18-9bc576b23c27>\u001b[0m in \u001b[0;36m<module>\u001b[1;34m\u001b[0m\n\u001b[0;32m      1\u001b[0m \u001b[0mmol\u001b[0m\u001b[1;33m.\u001b[0m\u001b[0mtitle\u001b[0m\u001b[1;33m=\u001b[0m\u001b[1;34m\"asdf\"\u001b[0m\u001b[1;33m\u001b[0m\u001b[1;33m\u001b[0m\u001b[0m\n\u001b[1;32m----> 2\u001b[1;33m \u001b[0mmol\u001b[0m\u001b[1;33m.\u001b[0m\u001b[0mwrite\u001b[0m\u001b[1;33m(\u001b[0m\u001b[0mformat\u001b[0m\u001b[1;33m=\u001b[0m\u001b[1;34m\"gjf\"\u001b[0m\u001b[1;33m,\u001b[0m \u001b[0mfilename\u001b[0m\u001b[1;33m=\u001b[0m\u001b[1;34m'data/babel_out.gjf'\u001b[0m\u001b[1;33m,\u001b[0m \u001b[0moverwrite\u001b[0m\u001b[1;33m=\u001b[0m\u001b[1;32mTrue\u001b[0m\u001b[1;33m)\u001b[0m\u001b[1;33m\u001b[0m\u001b[1;33m\u001b[0m\u001b[0m\n\u001b[0m",
      "\u001b[1;31mAttributeError\u001b[0m: 'OBMol' object has no attribute 'write'"
     ]
    }
   ],
   "source": [
    "mol.title=\"asdf\"\n",
    "mol.write(format=\"gjf\", filename='data/babel_out.gjf', overwrite=True)"
   ]
  },
  {
   "cell_type": "code",
   "execution_count": 32,
   "metadata": {},
   "outputs": [],
   "source": [
    "obmol = mol.OBMol\n",
    "\n",
    "conf_search = pybel.ob.OBConformerSearch()"
   ]
  },
  {
   "cell_type": "code",
   "execution_count": 33,
   "metadata": {},
   "outputs": [],
   "source": [
    "conf_search.Setup(obmol, 10)\n",
    "conf_search.GetConformers(obmol)"
   ]
  },
  {
   "cell_type": "code",
   "execution_count": 34,
   "metadata": {},
   "outputs": [
    {
     "data": {
      "text/plain": [
       "10"
      ]
     },
     "execution_count": 34,
     "metadata": {},
     "output_type": "execute_result"
    }
   ],
   "source": [
    "obmol.NumConformers()"
   ]
  },
  {
   "cell_type": "code",
   "execution_count": 35,
   "metadata": {},
   "outputs": [
    {
     "data": {
      "text/plain": [
       "True"
      ]
     },
     "execution_count": 35,
     "metadata": {},
     "output_type": "execute_result"
    }
   ],
   "source": [
    "conv = pybel.ob.OBConversion()\n",
    "conv.SetOutFormat(\"gjf\")"
   ]
  },
  {
   "cell_type": "code",
   "execution_count": 36,
   "metadata": {},
   "outputs": [],
   "source": [
    "for i in range(10):\n",
    "    obmol.SetTitle(f\"{i}\")\n",
    "    obmol.SetConformer(i)\n",
    "    conv.WriteFile(obmol, f\"data/ob{i}.gjf\")"
   ]
  },
  {
   "cell_type": "code",
   "execution_count": 49,
   "metadata": {},
   "outputs": [
    {
     "data": {
      "text/plain": [
       "True"
      ]
     },
     "execution_count": 49,
     "metadata": {},
     "output_type": "execute_result"
    }
   ],
   "source": [
    "conv.SetOutFormat(\"pdb\")"
   ]
  },
  {
   "cell_type": "code",
   "execution_count": 50,
   "metadata": {},
   "outputs": [
    {
     "data": {
      "text/plain": [
       "True"
      ]
     },
     "execution_count": 50,
     "metadata": {},
     "output_type": "execute_result"
    }
   ],
   "source": [
    "conv.WriteFile(obmol, \"molx.mol\")"
   ]
  },
  {
   "cell_type": "code",
   "execution_count": 19,
   "metadata": {
    "scrolled": false
   },
   "outputs": [
    {
     "name": "stdout",
     "output_type": "stream",
     "text": [
      "Help on OBMol in module openbabel.openbabel object:\n",
      "\n",
      "class OBMol(OBBase)\n",
      " |  OBMol(*args)\n",
      " |  \n",
      " |  Method resolution order:\n",
      " |      OBMol\n",
      " |      OBBase\n",
      " |      builtins.object\n",
      " |  \n",
      " |  Methods defined here:\n",
      " |  \n",
      " |  AddAtom = OBMol_AddAtom(...)\n",
      " |  \n",
      " |  AddBond = OBMol_AddBond(...)\n",
      " |  \n",
      " |  AddConformer = OBMol_AddConformer(...)\n",
      " |  \n",
      " |  AddHydrogens = OBMol_AddHydrogens(...)\n",
      " |  \n",
      " |  AddNewHydrogens = OBMol_AddNewHydrogens(...)\n",
      " |  \n",
      " |  AddNonPolarHydrogens = OBMol_AddNonPolarHydrogens(...)\n",
      " |  \n",
      " |  AddPolarHydrogens = OBMol_AddPolarHydrogens(...)\n",
      " |  \n",
      " |  AddResidue = OBMol_AddResidue(...)\n",
      " |  \n",
      " |  Align = OBMol_Align(...)\n",
      " |  \n",
      " |  AreInSameRing = OBMol_AreInSameRing(...)\n",
      " |  \n",
      " |  AssignSpinMultiplicity = OBMol_AssignSpinMultiplicity(...)\n",
      " |  \n",
      " |  AssignTotalChargeToAtoms = OBMol_AssignTotalChargeToAtoms(...)\n",
      " |  \n",
      " |  AutomaticFormalCharge = OBMol_AutomaticFormalCharge(...)\n",
      " |  \n",
      " |  AutomaticPartialCharge = OBMol_AutomaticPartialCharge(...)\n",
      " |  \n",
      " |  BeginAtom = exceptionIter(*args)\n",
      " |  \n",
      " |  BeginAtoms = exceptionIter(*args)\n",
      " |  \n",
      " |  BeginBond = exceptionIter(*args)\n",
      " |  \n",
      " |  BeginBonds = exceptionIter(*args)\n",
      " |  \n",
      " |  BeginConformer = OBMol_BeginConformer(...)\n",
      " |  \n",
      " |  BeginInternalCoord = OBMol_BeginInternalCoord(...)\n",
      " |  \n",
      " |  BeginModify = OBMol_BeginModify(...)\n",
      " |  \n",
      " |  BeginResidue = exceptionIter(*args)\n",
      " |  \n",
      " |  BeginResidues = exceptionIter(*args)\n",
      " |  \n",
      " |  Center = OBMol_Center(...)\n",
      " |  \n",
      " |  ConnectTheDots = OBMol_ConnectTheDots(...)\n",
      " |  \n",
      " |  ContigFragList = OBMol_ContigFragList(...)\n",
      " |  \n",
      " |  ConvertDativeBonds = OBMol_ConvertDativeBonds(...)\n",
      " |  \n",
      " |  ConvertZeroBonds = OBMol_ConvertZeroBonds(...)\n",
      " |  \n",
      " |  CopyConformer = OBMol_CopyConformer(...)\n",
      " |  \n",
      " |  CopySubstructure = OBMol_CopySubstructure(...)\n",
      " |  \n",
      " |  CorrectForPH = OBMol_CorrectForPH(...)\n",
      " |  \n",
      " |  DecrementMod = OBMol_DecrementMod(...)\n",
      " |  \n",
      " |  DeleteAtom = OBMol_DeleteAtom(...)\n",
      " |  \n",
      " |  DeleteBond = OBMol_DeleteBond(...)\n",
      " |  \n",
      " |  DeleteConformer = OBMol_DeleteConformer(...)\n",
      " |  \n",
      " |  DeleteHydrogen = OBMol_DeleteHydrogen(...)\n",
      " |  \n",
      " |  DeleteHydrogens = OBMol_DeleteHydrogens(...)\n",
      " |  \n",
      " |  DeleteNonPolarHydrogens = OBMol_DeleteNonPolarHydrogens(...)\n",
      " |  \n",
      " |  DeletePolarHydrogens = OBMol_DeletePolarHydrogens(...)\n",
      " |  \n",
      " |  DeleteResidue = OBMol_DeleteResidue(...)\n",
      " |  \n",
      " |  DestroyAtom = OBMol_DestroyAtom(...)\n",
      " |  \n",
      " |  DestroyBond = OBMol_DestroyBond(...)\n",
      " |  \n",
      " |  DestroyResidue = OBMol_DestroyResidue(...)\n",
      " |  \n",
      " |  Empty = OBMol_Empty(...)\n",
      " |  \n",
      " |  EndAtom = exceptionIter(*args)\n",
      " |  \n",
      " |  EndAtoms = exceptionIter(*args)\n",
      " |  \n",
      " |  EndBond = exceptionIter(*args)\n",
      " |  \n",
      " |  EndBonds = exceptionIter(*args)\n",
      " |  \n",
      " |  EndModify = OBMol_EndModify(...)\n",
      " |  \n",
      " |  EndResidue = exceptionIter(*args)\n",
      " |  \n",
      " |  EndResidues = exceptionIter(*args)\n",
      " |  \n",
      " |  FindAngles = OBMol_FindAngles(...)\n",
      " |  \n",
      " |  FindChildren = OBMol_FindChildren(...)\n",
      " |  \n",
      " |  FindLSSR = OBMol_FindLSSR(...)\n",
      " |  \n",
      " |  FindLargestFragment = OBMol_FindLargestFragment(...)\n",
      " |  \n",
      " |  FindRingAtomsAndBonds = OBMol_FindRingAtomsAndBonds(...)\n",
      " |  \n",
      " |  FindSSSR = OBMol_FindSSSR(...)\n",
      " |  \n",
      " |  FindTorsions = OBMol_FindTorsions(...)\n",
      " |  \n",
      " |  GetAngle = OBMol_GetAngle(...)\n",
      " |  \n",
      " |  GetAtom = OBMol_GetAtom(...)\n",
      " |  \n",
      " |  GetAtomById = OBMol_GetAtomById(...)\n",
      " |  \n",
      " |  GetBond = OBMol_GetBond(...)\n",
      " |  \n",
      " |  GetBondById = OBMol_GetBondById(...)\n",
      " |  \n",
      " |  GetConformer = OBMol_GetConformer(...)\n",
      " |  \n",
      " |  GetConformers = OBMol_GetConformers(...)\n",
      " |  \n",
      " |  GetCoordinates = OBMol_GetCoordinates(...)\n",
      " |  \n",
      " |  GetDimension = OBMol_GetDimension(...)\n",
      " |  \n",
      " |  GetEnergies = OBMol_GetEnergies(...)\n",
      " |  \n",
      " |  GetEnergy = OBMol_GetEnergy(...)\n",
      " |  \n",
      " |  GetExactMass = OBMol_GetExactMass(...)\n",
      " |  \n",
      " |  GetFirstAtom = OBMol_GetFirstAtom(...)\n",
      " |  \n",
      " |  GetFlags = OBMol_GetFlags(...)\n",
      " |  \n",
      " |  GetFormula = OBMol_GetFormula(...)\n",
      " |  \n",
      " |  GetGIDVector = OBMol_GetGIDVector(...)\n",
      " |  \n",
      " |  GetGIVector = OBMol_GetGIVector(...)\n",
      " |  \n",
      " |  GetGTDVector = OBMol_GetGTDVector(...)\n",
      " |  \n",
      " |  GetInternalCoord = OBMol_GetInternalCoord(...)\n",
      " |  \n",
      " |  GetLSSR = OBMol_GetLSSR(...)\n",
      " |  \n",
      " |  GetMod = OBMol_GetMod(...)\n",
      " |  \n",
      " |  GetMolWt = OBMol_GetMolWt(...)\n",
      " |  \n",
      " |  GetNextFragment = OBMol_GetNextFragment(...)\n",
      " |  \n",
      " |  GetResidue = OBMol_GetResidue(...)\n",
      " |  \n",
      " |  GetSSSR = OBMol_GetSSSR(...)\n",
      " |  \n",
      " |  GetSpacedFormula = OBMol_GetSpacedFormula(...)\n",
      " |  \n",
      " |  GetTitle = OBMol_GetTitle(...)\n",
      " |  \n",
      " |  GetTorsion = OBMol_GetTorsion(...)\n",
      " |  \n",
      " |  GetTotalCharge = OBMol_GetTotalCharge(...)\n",
      " |  \n",
      " |  GetTotalSpinMultiplicity = OBMol_GetTotalSpinMultiplicity(...)\n",
      " |  \n",
      " |  Has2D = OBMol_Has2D(...)\n",
      " |  \n",
      " |  Has3D = OBMol_Has3D(...)\n",
      " |  \n",
      " |  HasAromaticPerceived = OBMol_HasAromaticPerceived(...)\n",
      " |  \n",
      " |  HasAtomTypesPerceived = OBMol_HasAtomTypesPerceived(...)\n",
      " |  \n",
      " |  HasChainsPerceived = OBMol_HasChainsPerceived(...)\n",
      " |  \n",
      " |  HasChiralityPerceived = OBMol_HasChiralityPerceived(...)\n",
      " |  \n",
      " |  HasClosureBondsPerceived = OBMol_HasClosureBondsPerceived(...)\n",
      " |  \n",
      " |  HasFlag = OBMol_HasFlag(...)\n",
      " |  \n",
      " |  HasHybridizationPerceived = OBMol_HasHybridizationPerceived(...)\n",
      " |  \n",
      " |  HasHydrogensAdded = OBMol_HasHydrogensAdded(...)\n",
      " |  \n",
      " |  HasLSSRPerceived = OBMol_HasLSSRPerceived(...)\n",
      " |  \n",
      " |  HasNonZeroCoords = OBMol_HasNonZeroCoords(...)\n",
      " |  \n",
      " |  HasPartialChargesPerceived = OBMol_HasPartialChargesPerceived(...)\n",
      " |  \n",
      " |  HasRingAtomsAndBondsPerceived = OBMol_HasRingAtomsAndBondsPerceived(...)\n",
      " |  \n",
      " |  HasRingTypesPerceived = OBMol_HasRingTypesPerceived(...)\n",
      " |  \n",
      " |  HasSSSRPerceived = OBMol_HasSSSRPerceived(...)\n",
      " |  \n",
      " |  HasSpinMultiplicityAssigned = OBMol_HasSpinMultiplicityAssigned(...)\n",
      " |  \n",
      " |  IncrementMod = OBMol_IncrementMod(...)\n",
      " |  \n",
      " |  InsertAtom = OBMol_InsertAtom(...)\n",
      " |  \n",
      " |  IsCorrectedForPH = OBMol_IsCorrectedForPH(...)\n",
      " |  \n",
      " |  IsReaction = OBMol_IsReaction(...)\n",
      " |  \n",
      " |  MakeDativeBonds = OBMol_MakeDativeBonds(...)\n",
      " |  \n",
      " |  NewAtom = OBMol_NewAtom(...)\n",
      " |  \n",
      " |  NewBond = OBMol_NewBond(...)\n",
      " |  \n",
      " |  NewResidue = OBMol_NewResidue(...)\n",
      " |  \n",
      " |  NextConformer = OBMol_NextConformer(...)\n",
      " |  \n",
      " |  NextInternalCoord = OBMol_NextInternalCoord(...)\n",
      " |  \n",
      " |  NumAtoms = OBMol_NumAtoms(...)\n",
      " |  \n",
      " |  NumBonds = OBMol_NumBonds(...)\n",
      " |  \n",
      " |  NumConformers = OBMol_NumConformers(...)\n",
      " |  \n",
      " |  NumHvyAtoms = OBMol_NumHvyAtoms(...)\n",
      " |  \n",
      " |  NumResidues = OBMol_NumResidues(...)\n",
      " |  \n",
      " |  NumRotors = OBMol_NumRotors(...)\n",
      " |  \n",
      " |  PerceiveBondOrders = OBMol_PerceiveBondOrders(...)\n",
      " |  \n",
      " |  RenumberAtoms = OBMol_RenumberAtoms(...)\n",
      " |  \n",
      " |  ReserveAtoms = OBMol_ReserveAtoms(...)\n",
      " |  \n",
      " |  Rotate = OBMol_Rotate(...)\n",
      " |  \n",
      " |  Separate = OBMol_Separate(...)\n",
      " |  \n",
      " |  SetAromaticPerceived = OBMol_SetAromaticPerceived(...)\n",
      " |  \n",
      " |  SetAtomTypesPerceived = OBMol_SetAtomTypesPerceived(...)\n",
      " |  \n",
      " |  SetAutomaticFormalCharge = OBMol_SetAutomaticFormalCharge(...)\n",
      " |  \n",
      " |  SetAutomaticPartialCharge = OBMol_SetAutomaticPartialCharge(...)\n",
      " |  \n",
      " |  SetChainsPerceived = OBMol_SetChainsPerceived(...)\n",
      " |  \n",
      " |  SetChiralityPerceived = OBMol_SetChiralityPerceived(...)\n",
      " |  \n",
      " |  SetClosureBondsPerceived = OBMol_SetClosureBondsPerceived(...)\n",
      " |  \n",
      " |  SetConformer = OBMol_SetConformer(...)\n",
      " |  \n",
      " |  SetConformers = OBMol_SetConformers(...)\n",
      " |  \n",
      " |  SetCoordinates = OBMol_SetCoordinates(...)\n",
      " |  \n",
      " |  SetCorrectedForPH = OBMol_SetCorrectedForPH(...)\n",
      " |  \n",
      " |  SetData = exception(*args)\n",
      " |  \n",
      " |  SetDimension = OBMol_SetDimension(...)\n",
      " |  \n",
      " |  SetEnergies = OBMol_SetEnergies(...)\n",
      " |  \n",
      " |  SetEnergy = OBMol_SetEnergy(...)\n",
      " |  \n",
      " |  SetFlag = OBMol_SetFlag(...)\n",
      " |  \n",
      " |  SetFlags = OBMol_SetFlags(...)\n",
      " |  \n",
      " |  SetFormula = OBMol_SetFormula(...)\n",
      " |  \n",
      " |  SetHybridizationPerceived = OBMol_SetHybridizationPerceived(...)\n",
      " |  \n",
      " |  SetHydrogensAdded = OBMol_SetHydrogensAdded(...)\n",
      " |  \n",
      " |  SetInternalCoord = OBMol_SetInternalCoord(...)\n",
      " |  \n",
      " |  SetIsPatternStructure = OBMol_SetIsPatternStructure(...)\n",
      " |  \n",
      " |  SetIsReaction = OBMol_SetIsReaction(...)\n",
      " |  \n",
      " |  SetLSSRPerceived = OBMol_SetLSSRPerceived(...)\n",
      " |  \n",
      " |  SetPartialChargesPerceived = OBMol_SetPartialChargesPerceived(...)\n",
      " |  \n",
      " |  SetRingAtomsAndBondsPerceived = OBMol_SetRingAtomsAndBondsPerceived(...)\n",
      " |  \n",
      " |  SetRingTypesPerceived = OBMol_SetRingTypesPerceived(...)\n",
      " |  \n",
      " |  SetSSSRPerceived = OBMol_SetSSSRPerceived(...)\n",
      " |  \n",
      " |  SetSpinMultiplicityAssigned = OBMol_SetSpinMultiplicityAssigned(...)\n",
      " |  \n",
      " |  SetTitle = OBMol_SetTitle(...)\n",
      " |  \n",
      " |  SetTorsion = OBMol_SetTorsion(...)\n",
      " |  \n",
      " |  SetTotalCharge = OBMol_SetTotalCharge(...)\n",
      " |  \n",
      " |  SetTotalSpinMultiplicity = OBMol_SetTotalSpinMultiplicity(...)\n",
      " |  \n",
      " |  StripSalts = OBMol_StripSalts(...)\n",
      " |  \n",
      " |  ToInertialFrame = OBMol_ToInertialFrame(...)\n",
      " |  \n",
      " |  Translate = OBMol_Translate(...)\n",
      " |  \n",
      " |  UnsetFlag = OBMol_UnsetFlag(...)\n",
      " |  \n",
      " |  __iadd__ = OBMol___iadd__(...)\n",
      " |  \n",
      " |  __init__(self, *args)\n",
      " |      Initialize self.  See help(type(self)) for accurate signature.\n",
      " |  \n",
      " |  __repr__ = _swig_repr(self)\n",
      " |  \n",
      " |  ----------------------------------------------------------------------\n",
      " |  Static methods defined here:\n",
      " |  \n",
      " |  ClassDescription = OBMol_ClassDescription(...)\n",
      " |  \n",
      " |  __swig_destroy__ = delete_OBMol(...)\n",
      " |  \n",
      " |  ----------------------------------------------------------------------\n",
      " |  Data descriptors defined here:\n",
      " |  \n",
      " |  thisown\n",
      " |      The membership flag\n",
      " |  \n",
      " |  ----------------------------------------------------------------------\n",
      " |  Methods inherited from OBBase:\n",
      " |  \n",
      " |  BeginData = OBBase_BeginData(...)\n",
      " |  \n",
      " |  Clear = OBBase_Clear(...)\n",
      " |  \n",
      " |  CloneData = OBBase_CloneData(...)\n",
      " |  \n",
      " |  DataSize = OBBase_DataSize(...)\n",
      " |  \n",
      " |  DeleteData = OBBase_DeleteData(...)\n",
      " |  \n",
      " |  DoTransformations = OBBase_DoTransformations(...)\n",
      " |  \n",
      " |  EndData = OBBase_EndData(...)\n",
      " |  \n",
      " |  GetAllData = OBBase_GetAllData(...)\n",
      " |  \n",
      " |  GetData = OBBase_GetData(...)\n",
      " |  \n",
      " |  HasData = OBBase_HasData(...)\n",
      " |  \n",
      " |  ----------------------------------------------------------------------\n",
      " |  Data descriptors inherited from OBBase:\n",
      " |  \n",
      " |  __dict__\n",
      " |      dictionary for instance variables (if defined)\n",
      " |  \n",
      " |  __weakref__\n",
      " |      list of weak references to the object (if defined)\n",
      "\n"
     ]
    }
   ],
   "source": [
    "help(obmol)"
   ]
  },
  {
   "cell_type": "code",
   "execution_count": null,
   "metadata": {},
   "outputs": [],
   "source": []
  }
 ],
 "metadata": {
  "kernelspec": {
   "display_name": "Python 3",
   "language": "python",
   "name": "python3"
  },
  "language_info": {
   "codemirror_mode": {
    "name": "ipython",
    "version": 3
   },
   "file_extension": ".py",
   "mimetype": "text/x-python",
   "name": "python",
   "nbconvert_exporter": "python",
   "pygments_lexer": "ipython3",
   "version": "3.7.5"
  }
 },
 "nbformat": 4,
 "nbformat_minor": 2
}
