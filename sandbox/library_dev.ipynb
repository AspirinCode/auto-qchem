{
 "cells": [
  {
   "cell_type": "code",
   "execution_count": 18,
   "metadata": {},
   "outputs": [
    {
     "name": "stdout",
     "output_type": "stream",
     "text": [
      "The autoreload extension is already loaded. To reload it, use:\n",
      "  %reload_ext autoreload\n"
     ]
    },
    {
     "data": {
      "text/html": [
       "<style>.container { width:100% !important; }</style>"
      ],
      "text/plain": [
       "<IPython.core.display.HTML object>"
      ]
     },
     "metadata": {},
     "output_type": "display_data"
    }
   ],
   "source": [
    "%load_ext autoreload\n",
    "%autoreload 2\n",
    "\n",
    "from rdkit import Chem\n",
    "from rdkit.Chem import AllChem\n",
    "from rdkit.Chem.Draw import IPythonConsole #Needed to show molecules\n",
    "\n",
    "\n",
    "from openbabel import pybel\n",
    "from rdkit.Chem import GetPeriodicTable\n",
    "import enum\n",
    "import os\n",
    "\n",
    "IPythonConsole.ipython_3d = True\n",
    "\n",
    "from IPython.core.display import display, HTML\n",
    "display(HTML(\"<style>.container { width:100% !important; }</style>\"))"
   ]
  },
  {
   "cell_type": "markdown",
   "metadata": {},
   "source": [
    "process\n",
    "\n",
    "Goal generate descriptor sets for a list of molecules \n",
    "\n",
    "Process for each molecule:\n",
    "    1. generate initial geometry\n",
    "        --can be done using openbabel, rdkit, maybe other way as well (ML-type way)\n",
    "        --can be done for multiple molecules at on\n",
    "        \n",
    "    \n",
    "    - run gaussian calculations\n",
    "        -- create gaussian input and options\n",
    "    - postprocess gaussian output\n",
    "    - collect descriptors, add chem-informatics descriptors, etc."
   ]
  },
  {
   "cell_type": "code",
   "execution_count": 43,
   "metadata": {},
   "outputs": [],
   "source": [
    "class config:\n",
    "    \"\"\"configuration constants\"\"\"\n",
    "    \n",
    "    # framework config block\n",
    "    data_dir = \"C:/Users/AndrzejZuranski/tmp\"\n",
    "    db = \"mysql://\" # tbd\n",
    "    \n",
    "    # Gaussian config block\n",
    "    theory = \"B3LYP\"\n",
    "    light_set = \"6-31G*\"\n",
    "    generic_set = \"genecp\"\n",
    "    heavy_set = \"LANL2DZ\"\n",
    "    max_light_atomic_number = 36\n",
    "    atoms_per_processor = 6\n",
    "    max_processors = 20\n",
    "    ram_per_processor = 2\n",
    "\n",
    "\n",
    "class input_types(enum.Enum):\n",
    "    \"\"\"enumeration of input types\"\"\"\n",
    "    \n",
    "    smiles = \"smi\"\n",
    "    chemdraw = \"cdx\"\n",
    "    \n",
    "    \n",
    "class gaussian_workflows(enum.Enum):\n",
    "    \"\"\"enumeration of gaussian workflows\"\"\"\n",
    "    \n",
    "    equilibrium = {\n",
    "        \"opt\": lambda basis_set: f\"opt=CalcFc {config.theory}/{basis_set} scf=xqc\",\n",
    "        \"freq\": lambda basis_set: f\"freq {config.theory}/{basis_set} volume NMR pop=NPA density=current Geom=AllCheck Guess=Read\",\n",
    "        \"td\": lambda basis_set: f\"TD(NStates=10, Root=1) {config.theory}/{basis_set} volume pop=NPA density=current Geom=AllCheck Guess=Read\",\n",
    "    }\n",
    "    transition_state = {\n",
    "        \"opt\": lambda basis_set: f\"opt=(calcfc,ts,noeigentest) scf=xqc {config.theory}/{basis_set}\",\n",
    "        \"freq\": lambda basis_set: f\"freq {config.theory}/{basis_set} volume NMR pop=NPA density=current Geom=AllCheck Guess=Read\" \n",
    "    }\n",
    "    "
   ]
  },
  {
   "cell_type": "code",
   "execution_count": 44,
   "metadata": {},
   "outputs": [],
   "source": [
    "class gaussian_file_generator():\n",
    "    \"\"\"generator of gaussian input files\"\"\"\n",
    "    \n",
    "    def __init__(self, has_heavy, workflow, directory):\n",
    "        \"\"\"configure workflow and basis set to be used\"\"\"\n",
    "        \n",
    "        self.has_heavy = has_heavy\n",
    "        self.workflow = workflow\n",
    "        self.directory = directory\n",
    "        \n",
    "        if self.has_heavy:\n",
    "            self.basis_set = config.generic_set\n",
    "        else:\n",
    "            self.basis_set = config.light_set\n",
    "\n",
    "           \n",
    "    def generate_file(self, name, resource_block, coords_block, \n",
    "                      light_elements, heavy_elements, charge, multiplicity):\n",
    "                       \n",
    "        if self.has_heavy:\n",
    "            heavy_block = \"\"\n",
    "            heavy_block += \"\\n\" + \" \".join(light_elements + [\"0\"]) + \"\\n\"\n",
    "            heavy_block += f\"{config.light_set}\\n****\"\n",
    "            heavy_block += \"\\n\" + \" \".join(heavy_elements + [\"0\"]) + \"\\n\"\n",
    "            heavy_block += f\"{config.heavy_set}\\n****\\n\"\n",
    "            heavy_block += \"\\n\" + \" \".join(heavy_elements + [\"0\"]) + \"\\n\"\n",
    "            heavy_block += f\"{config.heavy_set}\\n\"\n",
    "            \n",
    "        output = \"\"\n",
    "        output += resource_block\n",
    "        output += f\"%Chk={name}_1.chk\\n\"\n",
    "        \n",
    "        # geoemtry optimization\n",
    "        output += f\"# {self.workflow.value['opt'](self.basis_set)}\\n\\n\"\n",
    "        output += f\"{name}\\n\\n\"\n",
    "        output += f\"{charge} {multiplicity}\\n\"\n",
    "        output += coords_block\n",
    "        \n",
    "        # add heavy block\n",
    "        if self.has_heavy:\n",
    "            output += heavy_block\n",
    "        \n",
    "        # frequency calculation\n",
    "        output += \"\\n\\n\\n--Link--1\\n\"\n",
    "        output += resource_block\n",
    "        output += f\"%Oldchk={name}_1.chk\\n\"\n",
    "        output += f\"%Chk={name}_2.chk\\n\"\n",
    "        output += f\"# {self.workflow.value['freq'](self.basis_set)}\\n\"\n",
    "        \n",
    "        if self.has_heavy:\n",
    "            output += heavy_block\n",
    "        \n",
    "        # time_dependent calculation (only for equilibrium workflow)\n",
    "        if 'td' in self.workflow.value:\n",
    "            output += \"\\n\\n\\n--Link--1\\n\"\n",
    "            output += resource_block\n",
    "            output += f\"%Oldchk={name}_2.chk\\n\"\n",
    "            output += f\"%Chk={name}_3.chk\\n\"\n",
    "            output += f\"{self.workflow.value['td'](self.basis_set)}\\n\"\n",
    "            \n",
    "            if self.has_heavy:\n",
    "                output += heavy_block\n",
    "        \n",
    "        with open(f\"{self.directory}/{name}.gjf\", \"w\") as file:\n",
    "            file.write(output)"
   ]
  },
  {
   "cell_type": "code",
   "execution_count": 45,
   "metadata": {},
   "outputs": [],
   "source": [
    "class qmol(object):\n",
    "    \"\"\"Class that holds a single molecule information\"\"\"\n",
    "    \n",
    "    pt = GetPeriodicTable()\n",
    "    \n",
    "    def __init__(self, input_string, input_type=input_types.smiles, n_conformers=None):\n",
    "        \"\"\"initialize the molecule\"\"\"\n",
    "        \n",
    "        self.name = input_string\n",
    "        self.directory = f\"{config.data_dir}/{self.name}\"\n",
    "        self.mol = pybel.readstring(input_type.value, input_string)\n",
    "        self.mol.addh() \n",
    "        self.mol.make3D() # make use of pybel api (harder to do with OBBuilder directly)\n",
    "        self.mol.localopt()\n",
    "                      \n",
    "        if n_conformers is not None:\n",
    "            self.__generate_conformers(n_conformers)\n",
    " \n",
    "        \n",
    "    def __generate_conformers(self, n_conformers):\n",
    "        \"\"\"generate conformations\"\"\"\n",
    "        \n",
    "        confSearch = pybel.ob.OBConformerSearch()\n",
    "        confSearch.Setup(self.mol.OBMol, n_conformers)\n",
    "        confSearch.Search()\n",
    "        confSearch.GetConformers(self.mol.OBMol)\n",
    "    \n",
    "    def __group_light_heavy_elements(self):\n",
    "        \"\"\"group elements into light and heavy for this molecule\"\"\"\n",
    "        \n",
    "        atomic_nums = set(atom.atomicnum for atom in self.mol.atoms)\n",
    "        heavy_elements = [self.pt.GetElementSymbol(n) for n in atomic_nums if n > config.max_light_atomic_number]\n",
    "        light_elements = [self.pt.GetElementSymbol(n) for n in atomic_nums if n <= config.max_light_atomic_number]\n",
    "        return heavy_elements, light_elements\n",
    "    \n",
    "    def create_gaussian_files(self, workflow=gaussian_workflows.equilibrium):\n",
    "        \"\"\"write gaussian files for each conformation with defined options\"\"\"\n",
    "\n",
    "        # make directory for files\n",
    "        os.makedirs(self.directory, exist_ok=True)\n",
    "        \n",
    "        # group elements by heavy and light\n",
    "        heavy_elements, light_elements = self.__group_light_heavy_elements()\n",
    "        has_heavy = len(heavy_elements) > 0\n",
    "        \n",
    "        # configure gaussian output writer\n",
    "        gfg = gaussian_file_generator(has_heavy, workflow, self.directory)\n",
    "        \n",
    "        # resources configuration\n",
    "        n_processors = max(20, len(self.mol.atoms) // config.atoms_per_processor)\n",
    "        RAM = n_processors * config.ram_per_processor\n",
    "        resource_block = f\"%nprocshared={n_processors}\\n%Mem={RAM}GB\\n\"\n",
    "\n",
    "        conv = pybel.ob.OBConversion()\n",
    "        conv.SetOutFormat(\"xyz\")\n",
    "        \n",
    "        for conf_id in range(self.mol.OBMol.NumConformers()):\n",
    "            # set conformer\n",
    "            self.mol.OBMol.SetConformer(conf_id)\n",
    "            conf_name = f\"{self.name}_conf_{conf_id}\"\n",
    "            \n",
    "            # coordinates block, use babel to convert and skip first 2 lines\n",
    "            coords_string = conv.WriteString(self.mol.OBMol)\n",
    "            coords_block = \"\\n\".join(coords_string.split(\"\\n\")[2:])\n",
    "            \n",
    "            gfg.generate_file(conf_name,\n",
    "                              resource_block,\n",
    "                              coords_block,\n",
    "                              light_elements,\n",
    "                              heavy_elements,\n",
    "                              self.mol.charge,\n",
    "                              self.mol.spin)\n",
    "            \n",
    "            \n",
    "    def cleanup_gaussian_files(self):\n",
    "        \"\"\"cleanup gaussian input/output files\"\"\"\n",
    "        for file in os.listdir(self.directory):\n",
    "            os.remove(os.path.join(self.directory, file))\n",
    "        os.rmdir(self.directory)\n",
    "        "
   ]
  },
  {
   "cell_type": "code",
   "execution_count": 46,
   "metadata": {},
   "outputs": [],
   "source": [
    "m=qmol(\"Cc1ccccc1P(c2ccccc2C)c3ccccc3C\", input_types.smiles, n_conformers=5)"
   ]
  },
  {
   "cell_type": "code",
   "execution_count": 47,
   "metadata": {
    "scrolled": false
   },
   "outputs": [],
   "source": [
    "m.create_gaussian_files()"
   ]
  },
  {
   "cell_type": "code",
   "execution_count": 25,
   "metadata": {},
   "outputs": [],
   "source": [
    "m.cleanup_gaussian_files()"
   ]
  },
  {
   "cell_type": "code",
   "execution_count": 26,
   "metadata": {},
   "outputs": [
    {
     "name": "stdout",
     "output_type": "stream",
     "text": [
      "3\n"
     ]
    }
   ],
   "source": [
    "m=qmol(\"Cc1ccccc1P(c2ccccc2C)c3ccccc3C\", input_types.smiles, n_conformers=3)\n",
    "print (m.mol.OBMol.NumConformers())"
   ]
  },
  {
   "cell_type": "code",
   "execution_count": 34,
   "metadata": {},
   "outputs": [],
   "source": [
    "def get_molecule_rdkit(smiles) -> Chem.Mol:\n",
    "    \"\"\"create rdkit molecule and optimize it's geometry using MMFF\"\"\"\n",
    "    \n",
    "    mol = Chem.MolFromSmiles(smiles)\n",
    "    mol = AllChem.AddHs(mol)\n",
    "    \n",
    "    AllChem.EmbedMolecule(mol)\n",
    "    status = AllChem.MMFFOptimizeMolecule(mol)\n",
    "    \n",
    "    return mol, status"
   ]
  },
  {
   "cell_type": "code",
   "execution_count": 35,
   "metadata": {},
   "outputs": [],
   "source": [
    "def get_conformers_rdkit(smiles, n_conformers=10) -> Chem.Mol:\n",
    "    \"\"\"create rdkit molecule conformers and optimize their geometry using MMFF\"\"\"\n",
    "    \n",
    "    mol, status = get_molecule_rdkit(smiles)\n",
    "    AllChem.EmbedMultipleConfs(mol, numConfs=n_conformers)\n",
    "    status_and_energies = AllChem.MMFFOptimizeMoleculeConfs(mol)\n",
    "    \n",
    "    return mol, status_and_energies"
   ]
  },
  {
   "cell_type": "code",
   "execution_count": 36,
   "metadata": {},
   "outputs": [],
   "source": [
    "def get_molecule_openbabel(smiles) -> pybel.ob.OBMol:\n",
    "    \n",
    "    mol = pybel.readstring(\"smi\", smi)\n",
    "    mol.addh()\n",
    "    mol.make3D()\n",
    "    mol.localopt()\n",
    "    \n",
    "    return mol.OBMol"
   ]
  },
  {
   "cell_type": "code",
   "execution_count": 37,
   "metadata": {},
   "outputs": [],
   "source": [
    "def get_conformers_openbabel(smiles, n_conformers=10):\n",
    "    \n",
    "    mol = get_molecule_openbabel(smiles)\n",
    "    \n",
    "    conf_search = pybel.ob.OBConformerSearch()\n",
    "    conf_search.Setup(mol, n_conformers)\n",
    "    conf_search.GetConformers(mol)\n",
    "    \n",
    "    return mol"
   ]
  },
  {
   "cell_type": "code",
   "execution_count": 38,
   "metadata": {},
   "outputs": [],
   "source": [
    "def save_conformers_as_gjf(mol, path=\"data\") -> None:\n",
    "    \"\"\"generates gjf files for each conformer of a molecule\n",
    "    this is not directly supported by rdkit\"\"\"\n",
    "        \n",
    "    for conf in mol.GetConformers():\n",
    "        mol_block = Chem.MolToMolBlock(mol, conf.GetId())\n",
    "        pybel_mol = pybel.readstring(\"mol\", mol_block)\n",
    "        pybel_mol.title = f\"{conf.GetId()}\"\n",
    "        pybel_mol.write(format=\"gjf\", filename=f\"{path}/{pybel_mol.title}.gjf\", overwrite=True)"
   ]
  },
  {
   "cell_type": "code",
   "execution_count": 42,
   "metadata": {},
   "outputs": [],
   "source": [
    "\n",
    "smi = 'C1CCC(CC1)[PH+](C2CCCCC2)C3CCCCC3'\n",
    "m, c=get_conformers_rdkit(smi, n_conformers=3)\n",
    "save_conformers_as_gjf(m, path=\"C:\\\\Users\\\\AndrzejZuranski\\\\tmp\")"
   ]
  },
  {
   "cell_type": "code",
   "execution_count": 59,
   "metadata": {},
   "outputs": [
    {
     "data": {
      "text/plain": [
       "[(0, 19.702240117495144), (1, 29.975368611158803), (1, 21.213076270304203)]"
      ]
     },
     "execution_count": 59,
     "metadata": {},
     "output_type": "execute_result"
    }
   ],
   "source": [
    "c"
   ]
  },
  {
   "cell_type": "code",
   "execution_count": 46,
   "metadata": {},
   "outputs": [
    {
     "data": {
      "image/png": "[encoded data removed]",
      "text/plain": [
       "<rdkit.Chem.rdchem.Mol at 0x22bc1081df0>"
      ]
     },
     "execution_count": 46,
     "metadata": {},
     "output_type": "execute_result"
    }
   ],
   "source": [
    "m"
   ]
  },
  {
   "cell_type": "code",
   "execution_count": 6,
   "metadata": {},
   "outputs": [],
   "source": [
    "smiles_sheet = pd.read_csv(\"data/smiles_examples.csv\", header=None)"
   ]
  },
  {
   "cell_type": "code",
   "execution_count": 7,
   "metadata": {},
   "outputs": [
    {
     "data": {
      "text/html": [
       "<div>\n",
       "<style scoped>\n",
       "    .dataframe tbody tr th:only-of-type {\n",
       "        vertical-align: middle;\n",
       "    }\n",
       "\n",
       "    .dataframe tbody tr th {\n",
       "        vertical-align: top;\n",
       "    }\n",
       "\n",
       "    .dataframe thead th {\n",
       "        text-align: right;\n",
       "    }\n",
       "</style>\n",
       "<table border=\"1\" class=\"dataframe\">\n",
       "  <thead>\n",
       "    <tr style=\"text-align: right;\">\n",
       "      <th></th>\n",
       "      <th>0</th>\n",
       "    </tr>\n",
       "  </thead>\n",
       "  <tbody>\n",
       "    <tr>\n",
       "      <th>0</th>\n",
       "      <td>C1=CC=C(C=C1)P(C2=CC=CC=C2)C3=C(C4=CC=CC=C4C=C...</td>\n",
       "    </tr>\n",
       "    <tr>\n",
       "      <th>1</th>\n",
       "      <td>[B-](F)(F)(F)F.C1CCC(CC1)[PH+](C2CCCCC2)C3CCCCC3</td>\n",
       "    </tr>\n",
       "    <tr>\n",
       "      <th>2</th>\n",
       "      <td>Cc1ccccc1P(c2ccccc2C)c3ccccc3C</td>\n",
       "    </tr>\n",
       "    <tr>\n",
       "      <th>3</th>\n",
       "      <td>COc1ccccc1P(c2ccccc2OC)c3ccccc3OC</td>\n",
       "    </tr>\n",
       "    <tr>\n",
       "      <th>4</th>\n",
       "      <td>CC1=CC=CC=C1C2=CC=CC=C2P(C3CCCCC3)C4CCCCC4</td>\n",
       "    </tr>\n",
       "    <tr>\n",
       "      <th>...</th>\n",
       "      <td>...</td>\n",
       "    </tr>\n",
       "    <tr>\n",
       "      <th>61</th>\n",
       "      <td>CCCCP(C12CC3CC(C1)CC(C3)C2)C45CC6CC(C4)CC(C6)C5</td>\n",
       "    </tr>\n",
       "    <tr>\n",
       "      <th>62</th>\n",
       "      <td>CN(C)c1ccccc1c2ccccc2P(C(C)(C)C)C(C)(C)C</td>\n",
       "    </tr>\n",
       "    <tr>\n",
       "      <th>63</th>\n",
       "      <td>CC(C)C1=CC(=C(C(=C1)C(C)C)C2=C(C=CC(=C2P(C3=CC...</td>\n",
       "    </tr>\n",
       "    <tr>\n",
       "      <th>64</th>\n",
       "      <td>O(P(Oc1ccccc1)Oc2ccccc2)c3ccccc3</td>\n",
       "    </tr>\n",
       "    <tr>\n",
       "      <th>65</th>\n",
       "      <td>CC12CC3(OC(O1)(CC(O2)(P3C4=CC=CC=C4)C)C)C</td>\n",
       "    </tr>\n",
       "  </tbody>\n",
       "</table>\n",
       "<p>66 rows × 1 columns</p>\n",
       "</div>"
      ],
      "text/plain": [
       "                                                    0\n",
       "0   C1=CC=C(C=C1)P(C2=CC=CC=C2)C3=C(C4=CC=CC=C4C=C...\n",
       "1    [B-](F)(F)(F)F.C1CCC(CC1)[PH+](C2CCCCC2)C3CCCCC3\n",
       "2                      Cc1ccccc1P(c2ccccc2C)c3ccccc3C\n",
       "3                   COc1ccccc1P(c2ccccc2OC)c3ccccc3OC\n",
       "4          CC1=CC=CC=C1C2=CC=CC=C2P(C3CCCCC3)C4CCCCC4\n",
       "..                                                ...\n",
       "61    CCCCP(C12CC3CC(C1)CC(C3)C2)C45CC6CC(C4)CC(C6)C5\n",
       "62           CN(C)c1ccccc1c2ccccc2P(C(C)(C)C)C(C)(C)C\n",
       "63  CC(C)C1=CC(=C(C(=C1)C(C)C)C2=C(C=CC(=C2P(C3=CC...\n",
       "64                   O(P(Oc1ccccc1)Oc2ccccc2)c3ccccc3\n",
       "65          CC12CC3(OC(O1)(CC(O2)(P3C4=CC=CC=C4)C)C)C\n",
       "\n",
       "[66 rows x 1 columns]"
      ]
     },
     "execution_count": 7,
     "metadata": {},
     "output_type": "execute_result"
    }
   ],
   "source": [
    "smiles_sheet"
   ]
  },
  {
   "cell_type": "code",
   "execution_count": null,
   "metadata": {},
   "outputs": [
    {
     "name": "stdout",
     "output_type": "stream",
     "text": [
      "C1=CC=C(C=C1)P(C2=CC=CC=C2)C3=C(C4=CC=CC=C4C=C3)C5=C(C=CC6=CC=CC=C65)P(C7=CC=CC=C7)C8=CC=CC=C8\n",
      "[B-](F)(F)(F)F.C1CCC(CC1)[PH+](C2CCCCC2)C3CCCCC3\n"
     ]
    }
   ],
   "source": [
    "for smi in smiles_sheet[0].values:\n",
    "    print (smi)\n",
    "    m = generate_conformers(smi)"
   ]
  }
 ],
 "metadata": {
  "kernelspec": {
   "display_name": "Python 3",
   "language": "python",
   "name": "python3"
  },
  "language_info": {
   "codemirror_mode": {
    "name": "ipython",
    "version": 3
   },
   "file_extension": ".py",
   "mimetype": "text/x-python",
   "name": "python",
   "nbconvert_exporter": "python",
   "pygments_lexer": "ipython3",
   "version": "3.7.5"
  }
 },
 "nbformat": 4,
 "nbformat_minor": 2
}
