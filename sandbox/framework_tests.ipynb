{
 "cells": [
  {
   "cell_type": "code",
   "execution_count": 1,
   "metadata": {},
   "outputs": [
    {
     "data": {
      "text/html": [
       "<style>.container { width:100% !important; }</style>"
      ],
      "text/plain": [
       "<IPython.core.display.HTML object>"
      ]
     },
     "metadata": {},
     "output_type": "display_data"
    }
   ],
   "source": [
    "%load_ext autoreload\n",
    "%autoreload 2\n",
    "%matplotlib inline\n",
    "\n",
    "import sys, os\n",
    "os.chdir(\"../\")\n",
    "\n",
    "from IPython.core.display import display, HTML\n",
    "display(HTML(\"<style>.container { width:100% !important; }</style>\"))"
   ]
  },
  {
   "cell_type": "code",
   "execution_count": 2,
   "metadata": {},
   "outputs": [
    {
     "name": "stderr",
     "output_type": "stream",
     "text": [
      "RDKit WARNING: [21:40:56] Enabling RDKit 2019.09.1 jupyter extensions\n"
     ]
    }
   ],
   "source": [
    "from python.molecule import molecule\n",
    "from python.slurm_manager import *\n",
    "from python.conversions import *\n",
    "\n",
    "from openbabel import pybel\n",
    "pybel.ipython_3d = True\n",
    "\n",
    "logging.basicConfig(level=logging.INFO)"
   ]
  },
  {
   "cell_type": "code",
   "execution_count": 3,
   "metadata": {},
   "outputs": [],
   "source": [
    "from scipy.spatial.distance import cdist\n",
    "from scipy.spatial.transform import Rotation as R\n",
    "import pandas as pd\n",
    "\n",
    "import rdkit.Chem\n",
    "pt = rdkit.Chem.GetPeriodicTable()"
   ]
  },
  {
   "cell_type": "code",
   "execution_count": 4,
   "metadata": {},
   "outputs": [
    {
     "name": "stderr",
     "output_type": "stream",
     "text": [
      "INFO:python.molecule:Canonical smiles of this molecule is C1CCC(CC1)[PH+](C1CCCCC1)C1CCCCC1.F[B-](F)(F)F\n",
      "INFO:python.molecule:Creating initial geometry\n",
      "INFO:python.molecule:Initial geometry created successfully.\n",
      "INFO:python.molecule:Conformer Search generated 5 conformations of C1CCC(CC1)[PH+](C1CCCCC1)C1CCCCC1.F[B-](F)(F)F molecule\n",
      "INFO:python.molecule:Molecule has 2 non-bonded fragments\n",
      "INFO:python.molecule:Conformation 0: repositioned molecular fragments from 2.55 separation to 10.05 separation in 85 interations.\n",
      "INFO:python.molecule:Conformation 1: repositioned molecular fragments from 3.13 separation to 10.04 separation in 77 interations.\n",
      "INFO:python.molecule:Conformation 2: repositioned molecular fragments from 3.13 separation to 10.04 separation in 77 interations.\n",
      "INFO:python.molecule:Conformation 3: repositioned molecular fragments from 2.71 separation to 10.06 separation in 82 interations.\n",
      "INFO:python.molecule:Conformation 4: repositioned molecular fragments from 2.71 separation to 10.06 separation in 82 interations.\n"
     ]
    }
   ],
   "source": [
    "s=\"[B-](F)(F)(F)F.C1CCC(CC1)[PH+](C2CCCCC2)C3CCCCC3\"\n",
    "#s=\"c1([2c](cccc1)[1P]([4CH]1CCCCC1)[3CH]1CCCCC1)c1ccccc1\"\n",
    "#s=\"[1P]([4c]1cc(cc(c1)C(F)(F)F)C(F)(F)F)([3c]1cc(cc(c1)C(F)(F)F)C(F)(F)F)[2c]1c(ccc(c1c1c(cc(cc1C(C)C)C(C)C)C(C)C)OC)OC\"\n",
    "m = molecule(s)"
   ]
  },
  {
   "cell_type": "code",
   "execution_count": 5,
   "metadata": {},
   "outputs": [
    {
     "name": "stdout",
     "output_type": "stream",
     "text": [
      "Molecule already has gaussian (gjf) input files created in directory: C:/Users/AndrzejZuranski/tmp/qchem/gaussian/C18H34BF4P_2b95.\n",
      "Shall I use these files? (y/n): n\n"
     ]
    },
    {
     "name": "stderr",
     "output_type": "stream",
     "text": [
      "INFO:python.util:5 files of type ['gjf'] removed from C:/Users/AndrzejZuranski/tmp/qchem/gaussian/C18H34BF4P_2b95\n",
      "INFO:python.gaussian_file_generator:Generating Gaussian input files for 5 conformations.\n",
      "INFO:python.gaussian_file_generator:Generated a Gaussian input file in C:/Users/AndrzejZuranski/tmp/qchem/gaussian/C18H34BF4P_2b95/C18H34BF4P_2b95_conf_0.gjf\n",
      "INFO:python.gaussian_file_generator:Generated a Gaussian input file in C:/Users/AndrzejZuranski/tmp/qchem/gaussian/C18H34BF4P_2b95/C18H34BF4P_2b95_conf_1.gjf\n",
      "INFO:python.gaussian_file_generator:Generated a Gaussian input file in C:/Users/AndrzejZuranski/tmp/qchem/gaussian/C18H34BF4P_2b95/C18H34BF4P_2b95_conf_2.gjf\n",
      "INFO:python.gaussian_file_generator:Generated a Gaussian input file in C:/Users/AndrzejZuranski/tmp/qchem/gaussian/C18H34BF4P_2b95/C18H34BF4P_2b95_conf_3.gjf\n",
      "INFO:python.gaussian_file_generator:Generated a Gaussian input file in C:/Users/AndrzejZuranski/tmp/qchem/gaussian/C18H34BF4P_2b95/C18H34BF4P_2b95_conf_4.gjf\n",
      "INFO:python.util:5 files of type ['sh'] removed from C:/Users/AndrzejZuranski/tmp/qchem/gaussian/C18H34BF4P_2b95\n",
      "INFO:python.slurm_manager:Created a Slurm job file in C:/Users/AndrzejZuranski/tmp/qchem/gaussian/C18H34BF4P_2b95/C18H34BF4P_2b95_conf_0.sh\n",
      "INFO:python.slurm_manager:Created a Slurm job file in C:/Users/AndrzejZuranski/tmp/qchem/gaussian/C18H34BF4P_2b95/C18H34BF4P_2b95_conf_1.sh\n",
      "INFO:python.slurm_manager:Created a Slurm job file in C:/Users/AndrzejZuranski/tmp/qchem/gaussian/C18H34BF4P_2b95/C18H34BF4P_2b95_conf_2.sh\n",
      "INFO:python.slurm_manager:Created a Slurm job file in C:/Users/AndrzejZuranski/tmp/qchem/gaussian/C18H34BF4P_2b95/C18H34BF4P_2b95_conf_3.sh\n",
      "INFO:python.slurm_manager:Created a Slurm job file in C:/Users/AndrzejZuranski/tmp/qchem/gaussian/C18H34BF4P_2b95/C18H34BF4P_2b95_conf_4.sh\n"
     ]
    }
   ],
   "source": [
    "sm = slurm_manager()\n",
    "sm.create_jobs_for_molecule(m)"
   ]
  },
  {
   "cell_type": "code",
   "execution_count": 28,
   "metadata": {
    "scrolled": true
   },
   "outputs": [
    {
     "data": {
      "text/plain": [
       "{'mol': <openbabel.openbabel.OBMol; proxy of <Swig Object of type 'OpenBabel::OBMol *' at 0x0000016CD2104840> >,\n",
       " 'name': 'C1CCC(CC1)[PH+](C1CCCCC1)C1CCCCC1.F[B-](F)(F)F',\n",
       " 'light_elements': ['F', 'B', 'C', 'P'],\n",
       " 'heavy_elements': [],\n",
       " 'fs_name': 'C18H34BF4P_2b95',\n",
       " 'fragments_dict': {0: 0,\n",
       "  1: 0,\n",
       "  2: 0,\n",
       "  3: 0,\n",
       "  4: 0,\n",
       "  5: 0,\n",
       "  6: 0,\n",
       "  7: 0,\n",
       "  8: 0,\n",
       "  9: 0,\n",
       "  10: 0,\n",
       "  11: 0,\n",
       "  12: 0,\n",
       "  13: 0,\n",
       "  14: 0,\n",
       "  15: 0,\n",
       "  16: 0,\n",
       "  17: 0,\n",
       "  18: 0,\n",
       "  24: 0,\n",
       "  25: 0,\n",
       "  26: 0,\n",
       "  27: 0,\n",
       "  28: 0,\n",
       "  29: 0,\n",
       "  30: 0,\n",
       "  31: 0,\n",
       "  32: 0,\n",
       "  33: 0,\n",
       "  34: 0,\n",
       "  35: 0,\n",
       "  36: 0,\n",
       "  37: 0,\n",
       "  38: 0,\n",
       "  39: 0,\n",
       "  40: 0,\n",
       "  41: 0,\n",
       "  42: 0,\n",
       "  43: 0,\n",
       "  44: 0,\n",
       "  45: 0,\n",
       "  46: 0,\n",
       "  47: 0,\n",
       "  48: 0,\n",
       "  49: 0,\n",
       "  50: 0,\n",
       "  51: 0,\n",
       "  52: 0,\n",
       "  53: 0,\n",
       "  54: 0,\n",
       "  55: 0,\n",
       "  56: 0,\n",
       "  57: 0,\n",
       "  19: 1,\n",
       "  20: 1,\n",
       "  21: 1,\n",
       "  22: 1,\n",
       "  23: 1},\n",
       " 'centers': array([ 6, 20], dtype=int64)}"
      ]
     },
     "execution_count": 28,
     "metadata": {},
     "output_type": "execute_result"
    }
   ],
   "source": [
    "m.__dict__"
   ]
  }
 ],
 "metadata": {
  "kernelspec": {
   "display_name": "Python 3",
   "language": "python",
   "name": "python3"
  },
  "language_info": {
   "codemirror_mode": {
    "name": "ipython",
    "version": 3
   },
   "file_extension": ".py",
   "mimetype": "text/x-python",
   "name": "python",
   "nbconvert_exporter": "python",
   "pygments_lexer": "ipython3",
   "version": "3.7.5"
  }
 },
 "nbformat": 4,
 "nbformat_minor": 2
}
