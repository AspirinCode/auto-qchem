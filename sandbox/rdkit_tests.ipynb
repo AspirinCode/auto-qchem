{
 "cells": [
  {
   "cell_type": "code",
   "execution_count": 1,
   "metadata": {},
   "outputs": [
    {
     "name": "stderr",
     "output_type": "stream",
     "text": [
      "RDKit WARNING: [21:53:46] Enabling RDKit 2019.09.1 jupyter extensions\n"
     ]
    },
    {
     "data": {
      "text/html": [
       "<style>.container { width:100% !important; }</style>"
      ],
      "text/plain": [
       "<IPython.core.display.HTML object>"
      ]
     },
     "metadata": {},
     "output_type": "display_data"
    }
   ],
   "source": [
    "%load_ext autoreload\n",
    "%autoreload 2\n",
    "\n",
    "from rdkit import Chem\n",
    "from rdkit.Chem import AllChem\n",
    "from rdkit.Chem.Draw import IPythonConsole #Needed to show molecules\n",
    "\n",
    "\n",
    "from openbabel import pybel\n",
    "from rdkit.Chem import GetPeriodicTable\n",
    "import enum\n",
    "import os\n",
    "import shutil\n",
    "\n",
    "IPythonConsole.ipython_3d = True\n",
    "\n",
    "from IPython.core.display import display, HTML\n",
    "display(HTML(\"<style>.container { width:100% !important; }</style>\"))"
   ]
  },
  {
   "cell_type": "markdown",
   "metadata": {},
   "source": [
    "process\n",
    "\n",
    "Goal generate descriptor sets for a list of molecules \n",
    "\n",
    "Process for each molecule:\n",
    "    1. generate initial geometry\n",
    "        --can be done using openbabel, rdkit, maybe other way as well (ML-type way)\n",
    "        --can be done for multiple molecules at on\n",
    "        \n",
    "    \n",
    "    - run gaussian calculations\n",
    "        -- create gaussian input and options\n",
    "    - postprocess gaussian output\n",
    "    - collect descriptors, add chem-informatics descriptors, etc."
   ]
  },
  {
   "cell_type": "code",
   "execution_count": 3,
   "metadata": {},
   "outputs": [],
   "source": [
    "def get_molecule_rdkit(smiles) -> Chem.Mol:\n",
    "    \"\"\"create rdkit molecule and optimize it's geometry using MMFF\"\"\"\n",
    "    \n",
    "    mol = Chem.MolFromSmiles(smiles)\n",
    "    mol = AllChem.AddHs(mol)\n",
    "    \n",
    "    AllChem.EmbedMolecule(mol)\n",
    "    status = AllChem.MMFFOptimizeMolecule(mol)\n",
    "    \n",
    "    return mol, status"
   ]
  },
  {
   "cell_type": "code",
   "execution_count": 4,
   "metadata": {},
   "outputs": [],
   "source": [
    "def get_conformers_rdkit(smiles, n_conformers=10) -> Chem.Mol:\n",
    "    \"\"\"create rdkit molecule conformers and optimize their geometry using MMFF\"\"\"\n",
    "    \n",
    "    mol, status = get_molecule_rdkit(smiles)\n",
    "    AllChem.EmbedMultipleConfs(mol, numConfs=n_conformers)\n",
    "    status_and_energies = AllChem.MMFFOptimizeMoleculeConfs(mol)\n",
    "    \n",
    "    return mol, status_and_energies"
   ]
  },
  {
   "cell_type": "code",
   "execution_count": 5,
   "metadata": {},
   "outputs": [],
   "source": [
    "def get_molecule_openbabel(smiles) -> pybel.ob.OBMol:\n",
    "    \n",
    "    mol = pybel.readstring(\"smi\", smi)\n",
    "    mol.addh()\n",
    "    mol.make3D()\n",
    "    mol.localopt()\n",
    "    \n",
    "    return mol.OBMol"
   ]
  },
  {
   "cell_type": "code",
   "execution_count": 6,
   "metadata": {},
   "outputs": [],
   "source": [
    "def get_conformers_openbabel(smiles, n_conformers=10):\n",
    "    \n",
    "    mol = get_molecule_openbabel(smiles)\n",
    "    \n",
    "    conf_search = pybel.ob.OBConformerSearch()\n",
    "    conf_search.Setup(mol, n_conformers)\n",
    "    conf_search.GetConformers(mol)\n",
    "    \n",
    "    return mol"
   ]
  },
  {
   "cell_type": "code",
   "execution_count": 7,
   "metadata": {},
   "outputs": [],
   "source": [
    "def save_conformers_as_gjf(mol, path=\"data\") -> None:\n",
    "    \"\"\"generates gjf files for each conformer of a molecule\n",
    "    this is not directly supported by rdkit\"\"\"\n",
    "        \n",
    "    for conf in mol.GetConformers():\n",
    "        mol_block = Chem.MolToMolBlock(mol, conf.GetId())\n",
    "        pybel_mol = pybel.readstring(\"mol\", mol_block)\n",
    "        pybel_mol.title = f\"{conf.GetId()}\"\n",
    "        pybel_mol.write(format=\"gjf\", filename=f\"{path}/{pybel_mol.title}.gjf\", overwrite=True)"
   ]
  },
  {
   "cell_type": "code",
   "execution_count": 8,
   "metadata": {},
   "outputs": [],
   "source": [
    "\n",
    "smi = 'C1CCC(CC1)[PH+](C2CCCCC2)C3CCCCC3'\n",
    "m, c=get_conformers_rdkit(smi, n_conformers=3)\n",
    "save_conformers_as_gjf(m, path=\"C:\\\\Users\\\\AndrzejZuranski\\\\tmp\")"
   ]
  },
  {
   "cell_type": "code",
   "execution_count": 9,
   "metadata": {},
   "outputs": [
    {
     "data": {
      "text/plain": [
       "[(1, 20.996134255549084), (1, 26.66714799865935), (0, 13.943087817734106)]"
      ]
     },
     "execution_count": 9,
     "metadata": {},
     "output_type": "execute_result"
    }
   ],
   "source": [
    "c"
   ]
  },
  {
   "cell_type": "code",
   "execution_count": 10,
   "metadata": {},
   "outputs": [
    {
     "data": {
      "image/png": "[encoded data removed]",
      "text/plain": [
       "<rdkit.Chem.rdchem.Mol at 0x1a5f07ea210>"
      ]
     },
     "execution_count": 10,
     "metadata": {},
     "output_type": "execute_result"
    }
   ],
   "source": [
    "m"
   ]
  }
 ],
 "metadata": {
  "kernelspec": {
   "display_name": "Python 3",
   "language": "python",
   "name": "python3"
  },
  "language_info": {
   "codemirror_mode": {
    "name": "ipython",
    "version": 3
   },
   "file_extension": ".py",
   "mimetype": "text/x-python",
   "name": "python",
   "nbconvert_exporter": "python",
   "pygments_lexer": "ipython3",
   "version": "3.7.5"
  }
 },
 "nbformat": 4,
 "nbformat_minor": 2
}
