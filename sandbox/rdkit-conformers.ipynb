{
 "cells": [
  {
   "cell_type": "code",
   "execution_count": 1,
   "metadata": {},
   "outputs": [
    {
     "name": "stderr",
     "output_type": "stream",
     "text": [
      "RDKit WARNING: [16:05:13] Enabling RDKit 2019.09.1 jupyter extensions\n"
     ]
    }
   ],
   "source": [
    "from rdkit import Chem\n",
    "from rdkit.Chem import AllChem\n",
    "from rdkit.Chem.Draw import IPythonConsole #Needed to show molecules\n",
    "\n",
    "import pandas as pd\n",
    "\n",
    "from openbabel import pybel\n",
    "\n",
    "IPythonConsole.ipython_3d = True"
   ]
  },
  {
   "cell_type": "code",
   "execution_count": 6,
   "metadata": {},
   "outputs": [],
   "source": [
    "def generate_conformers(smiles, n_conformers=10, n_threads=0) -> Chem.Mol:\n",
    "    \"\"\"generates a set of molecule conformers based on smiles input\"\"\"\n",
    "    \n",
    "    mol = Chem.MolFromSmiles(smiles)\n",
    "    \n",
    "    AllChem.AddHs(mol)\n",
    "    AllChem.EmbedMultipleConfs(mol, numConfs=n_conformers, numThreads=n_threads)\n",
    "    AllChem.MMFFOptimizeMoleculeConfs(mol)\n",
    "    \n",
    "    return mol"
   ]
  },
  {
   "cell_type": "code",
   "execution_count": 3,
   "metadata": {},
   "outputs": [],
   "source": [
    "def save_conformers_as_gjf(mol, path=\"data\") -> None:\n",
    "    \"\"\"generates gjf files for each conformer of a molecule\n",
    "    this is not directly supported by rdkit\"\"\"\n",
    "        \n",
    "    for conf in mol.GetConformers():\n",
    "        mol_block = Chem.MolToMolBlock(mol, conf.GetId())\n",
    "        pybel_mol = pybel.readstring(\"mol\", mol_block)\n",
    "        pybel_mol.title = f\"{conf.GetId()}\"\n",
    "        pybel_mol.write(format=\"gjf\", filename=f\"{path}/{pybel_mol.title}.gjf\", overwrite=True)"
   ]
  },
  {
   "cell_type": "code",
   "execution_count": null,
   "metadata": {},
   "outputs": [],
   "source": [
    "\n",
    "smi = '[B-](F)(F)(F)F.C1CCC(CC1)[PH+](C2CCCCC2)C3CCCCC3'\n",
    "m=generate_conformers(smi, n_conformers=1)\n",
    "save_conformers_as_gjf(m)"
   ]
  },
  {
   "cell_type": "code",
   "execution_count": 6,
   "metadata": {},
   "outputs": [],
   "source": [
    "smiles_sheet = pd.read_csv(\"data/smiles_examples.csv\", header=None)"
   ]
  },
  {
   "cell_type": "code",
   "execution_count": 7,
   "metadata": {},
   "outputs": [
    {
     "data": {
      "text/html": [
       "<div>\n",
       "<style scoped>\n",
       "    .dataframe tbody tr th:only-of-type {\n",
       "        vertical-align: middle;\n",
       "    }\n",
       "\n",
       "    .dataframe tbody tr th {\n",
       "        vertical-align: top;\n",
       "    }\n",
       "\n",
       "    .dataframe thead th {\n",
       "        text-align: right;\n",
       "    }\n",
       "</style>\n",
       "<table border=\"1\" class=\"dataframe\">\n",
       "  <thead>\n",
       "    <tr style=\"text-align: right;\">\n",
       "      <th></th>\n",
       "      <th>0</th>\n",
       "    </tr>\n",
       "  </thead>\n",
       "  <tbody>\n",
       "    <tr>\n",
       "      <th>0</th>\n",
       "      <td>C1=CC=C(C=C1)P(C2=CC=CC=C2)C3=C(C4=CC=CC=C4C=C...</td>\n",
       "    </tr>\n",
       "    <tr>\n",
       "      <th>1</th>\n",
       "      <td>[B-](F)(F)(F)F.C1CCC(CC1)[PH+](C2CCCCC2)C3CCCCC3</td>\n",
       "    </tr>\n",
       "    <tr>\n",
       "      <th>2</th>\n",
       "      <td>Cc1ccccc1P(c2ccccc2C)c3ccccc3C</td>\n",
       "    </tr>\n",
       "    <tr>\n",
       "      <th>3</th>\n",
       "      <td>COc1ccccc1P(c2ccccc2OC)c3ccccc3OC</td>\n",
       "    </tr>\n",
       "    <tr>\n",
       "      <th>4</th>\n",
       "      <td>CC1=CC=CC=C1C2=CC=CC=C2P(C3CCCCC3)C4CCCCC4</td>\n",
       "    </tr>\n",
       "    <tr>\n",
       "      <th>...</th>\n",
       "      <td>...</td>\n",
       "    </tr>\n",
       "    <tr>\n",
       "      <th>61</th>\n",
       "      <td>CCCCP(C12CC3CC(C1)CC(C3)C2)C45CC6CC(C4)CC(C6)C5</td>\n",
       "    </tr>\n",
       "    <tr>\n",
       "      <th>62</th>\n",
       "      <td>CN(C)c1ccccc1c2ccccc2P(C(C)(C)C)C(C)(C)C</td>\n",
       "    </tr>\n",
       "    <tr>\n",
       "      <th>63</th>\n",
       "      <td>CC(C)C1=CC(=C(C(=C1)C(C)C)C2=C(C=CC(=C2P(C3=CC...</td>\n",
       "    </tr>\n",
       "    <tr>\n",
       "      <th>64</th>\n",
       "      <td>O(P(Oc1ccccc1)Oc2ccccc2)c3ccccc3</td>\n",
       "    </tr>\n",
       "    <tr>\n",
       "      <th>65</th>\n",
       "      <td>CC12CC3(OC(O1)(CC(O2)(P3C4=CC=CC=C4)C)C)C</td>\n",
       "    </tr>\n",
       "  </tbody>\n",
       "</table>\n",
       "<p>66 rows × 1 columns</p>\n",
       "</div>"
      ],
      "text/plain": [
       "                                                    0\n",
       "0   C1=CC=C(C=C1)P(C2=CC=CC=C2)C3=C(C4=CC=CC=C4C=C...\n",
       "1    [B-](F)(F)(F)F.C1CCC(CC1)[PH+](C2CCCCC2)C3CCCCC3\n",
       "2                      Cc1ccccc1P(c2ccccc2C)c3ccccc3C\n",
       "3                   COc1ccccc1P(c2ccccc2OC)c3ccccc3OC\n",
       "4          CC1=CC=CC=C1C2=CC=CC=C2P(C3CCCCC3)C4CCCCC4\n",
       "..                                                ...\n",
       "61    CCCCP(C12CC3CC(C1)CC(C3)C2)C45CC6CC(C4)CC(C6)C5\n",
       "62           CN(C)c1ccccc1c2ccccc2P(C(C)(C)C)C(C)(C)C\n",
       "63  CC(C)C1=CC(=C(C(=C1)C(C)C)C2=C(C=CC(=C2P(C3=CC...\n",
       "64                   O(P(Oc1ccccc1)Oc2ccccc2)c3ccccc3\n",
       "65          CC12CC3(OC(O1)(CC(O2)(P3C4=CC=CC=C4)C)C)C\n",
       "\n",
       "[66 rows x 1 columns]"
      ]
     },
     "execution_count": 7,
     "metadata": {},
     "output_type": "execute_result"
    }
   ],
   "source": [
    "smiles_sheet"
   ]
  },
  {
   "cell_type": "code",
   "execution_count": null,
   "metadata": {},
   "outputs": [
    {
     "name": "stdout",
     "output_type": "stream",
     "text": [
      "C1=CC=C(C=C1)P(C2=CC=CC=C2)C3=C(C4=CC=CC=C4C=C3)C5=C(C=CC6=CC=CC=C65)P(C7=CC=CC=C7)C8=CC=CC=C8\n",
      "[B-](F)(F)(F)F.C1CCC(CC1)[PH+](C2CCCCC2)C3CCCCC3\n"
     ]
    }
   ],
   "source": [
    "for smi in smiles_sheet[0].values:\n",
    "    print (smi)\n",
    "    m = generate_conformers(smi)"
   ]
  },
  {
   "cell_type": "code",
   "execution_count": 1,
   "metadata": {},
   "outputs": [
    {
     "ename": "NameError",
     "evalue": "name 'smi' is not defined",
     "output_type": "error",
     "traceback": [
      "\u001b[1;31m---------------------------------------------------------------------------\u001b[0m",
      "\u001b[1;31mNameError\u001b[0m                                 Traceback (most recent call last)",
      "\u001b[1;32m<ipython-input-1-7ecaa1320916>\u001b[0m in \u001b[0;36m<module>\u001b[1;34m\u001b[0m\n\u001b[1;32m----> 1\u001b[1;33m \u001b[0msmi\u001b[0m\u001b[1;33m\u001b[0m\u001b[1;33m\u001b[0m\u001b[0m\n\u001b[0m",
      "\u001b[1;31mNameError\u001b[0m: name 'smi' is not defined"
     ]
    }
   ],
   "source": []
  },
  {
   "cell_type": "code",
   "execution_count": null,
   "metadata": {},
   "outputs": [],
   "source": []
  }
 ],
 "metadata": {
  "kernelspec": {
   "display_name": "Python 3",
   "language": "python",
   "name": "python3"
  },
  "language_info": {
   "codemirror_mode": {
    "name": "ipython",
    "version": 3
   },
   "file_extension": ".py",
   "mimetype": "text/x-python",
   "name": "python",
   "nbconvert_exporter": "python",
   "pygments_lexer": "ipython3",
   "version": "3.7.5"
  }
 },
 "nbformat": 4,
 "nbformat_minor": 2
}
